{
  "nbformat": 4,
  "nbformat_minor": 0,
  "metadata": {
    "colab": {
      "name": "Google stock prices LSTM.ipynb",
      "provenance": [],
      "collapsed_sections": [],
      "include_colab_link": true
    },
    "kernelspec": {
      "name": "python3",
      "display_name": "Python 3"
    },
    "accelerator": "GPU"
  },
  "cells": [
    {
      "cell_type": "markdown",
      "metadata": {
        "id": "view-in-github",
        "colab_type": "text"
      },
      "source": [
        "<a href=\"https://colab.research.google.com/github/shailendrarg/Deep-learning/blob/master/Google_stock_prices_LSTM.ipynb\" target=\"_parent\"><img src=\"https://colab.research.google.com/assets/colab-badge.svg\" alt=\"Open In Colab\"/></a>"
      ]
    },
    {
      "cell_type": "code",
      "metadata": {
        "id": "D9Q2MpIeXt_p",
        "colab_type": "code",
        "colab": {}
      },
      "source": [
        "import numpy as np\n",
        "import pandas as pd\n",
        "import matplotlib.pyplot as plt\n",
        "%matplotlib inline\n",
        "import seaborn as sns"
      ],
      "execution_count": 0,
      "outputs": []
    },
    {
      "cell_type": "code",
      "metadata": {
        "id": "EIFeJmYQYGt_",
        "colab_type": "code",
        "outputId": "22ad0840-c3cc-484e-f7a5-79081c527859",
        "colab": {
          "base_uri": "https://localhost:8080/",
          "height": 34
        }
      },
      "source": [
        "from google.colab import drive\n",
        "drive.mount('/content/drive')"
      ],
      "execution_count": 247,
      "outputs": [
        {
          "output_type": "stream",
          "text": [
            "Drive already mounted at /content/drive; to attempt to forcibly remount, call drive.mount(\"/content/drive\", force_remount=True).\n"
          ],
          "name": "stdout"
        }
      ]
    },
    {
      "cell_type": "code",
      "metadata": {
        "id": "8z6hJDdMYyOm",
        "colab_type": "code",
        "colab": {}
      },
      "source": [
        "test_file=\"/content/drive/My Drive/Machine Learning/Stock prices/Google stock prices/Google_Stock_Price_Test.csv\"\n",
        "train_file=\"/content/drive/My Drive/Machine Learning/Stock prices/Google stock prices/Google_Stock_Price_Train.csv\""
      ],
      "execution_count": 0,
      "outputs": []
    },
    {
      "cell_type": "code",
      "metadata": {
        "id": "KLDC0JYxY9Du",
        "colab_type": "code",
        "colab": {}
      },
      "source": [
        "test_df=pd.read_csv(test_file)\n",
        "train_df=pd.read_csv(train_file)"
      ],
      "execution_count": 0,
      "outputs": []
    },
    {
      "cell_type": "code",
      "metadata": {
        "id": "3s40_HOzZLxJ",
        "colab_type": "code",
        "outputId": "fbbe9fed-53a7-4232-e7cc-5b40b56b010b",
        "colab": {
          "base_uri": "https://localhost:8080/",
          "height": 204
        }
      },
      "source": [
        "train_df.head()"
      ],
      "execution_count": 250,
      "outputs": [
        {
          "output_type": "execute_result",
          "data": {
            "text/html": [
              "<div>\n",
              "<style scoped>\n",
              "    .dataframe tbody tr th:only-of-type {\n",
              "        vertical-align: middle;\n",
              "    }\n",
              "\n",
              "    .dataframe tbody tr th {\n",
              "        vertical-align: top;\n",
              "    }\n",
              "\n",
              "    .dataframe thead th {\n",
              "        text-align: right;\n",
              "    }\n",
              "</style>\n",
              "<table border=\"1\" class=\"dataframe\">\n",
              "  <thead>\n",
              "    <tr style=\"text-align: right;\">\n",
              "      <th></th>\n",
              "      <th>Date</th>\n",
              "      <th>Open</th>\n",
              "      <th>High</th>\n",
              "      <th>Low</th>\n",
              "      <th>Close</th>\n",
              "      <th>Volume</th>\n",
              "    </tr>\n",
              "  </thead>\n",
              "  <tbody>\n",
              "    <tr>\n",
              "      <th>0</th>\n",
              "      <td>1/3/2012</td>\n",
              "      <td>325.25</td>\n",
              "      <td>332.83</td>\n",
              "      <td>324.97</td>\n",
              "      <td>663.59</td>\n",
              "      <td>7,380,500</td>\n",
              "    </tr>\n",
              "    <tr>\n",
              "      <th>1</th>\n",
              "      <td>1/4/2012</td>\n",
              "      <td>331.27</td>\n",
              "      <td>333.87</td>\n",
              "      <td>329.08</td>\n",
              "      <td>666.45</td>\n",
              "      <td>5,749,400</td>\n",
              "    </tr>\n",
              "    <tr>\n",
              "      <th>2</th>\n",
              "      <td>1/5/2012</td>\n",
              "      <td>329.83</td>\n",
              "      <td>330.75</td>\n",
              "      <td>326.89</td>\n",
              "      <td>657.21</td>\n",
              "      <td>6,590,300</td>\n",
              "    </tr>\n",
              "    <tr>\n",
              "      <th>3</th>\n",
              "      <td>1/6/2012</td>\n",
              "      <td>328.34</td>\n",
              "      <td>328.77</td>\n",
              "      <td>323.68</td>\n",
              "      <td>648.24</td>\n",
              "      <td>5,405,900</td>\n",
              "    </tr>\n",
              "    <tr>\n",
              "      <th>4</th>\n",
              "      <td>1/9/2012</td>\n",
              "      <td>322.04</td>\n",
              "      <td>322.29</td>\n",
              "      <td>309.46</td>\n",
              "      <td>620.76</td>\n",
              "      <td>11,688,800</td>\n",
              "    </tr>\n",
              "  </tbody>\n",
              "</table>\n",
              "</div>"
            ],
            "text/plain": [
              "       Date    Open    High     Low   Close      Volume\n",
              "0  1/3/2012  325.25  332.83  324.97  663.59   7,380,500\n",
              "1  1/4/2012  331.27  333.87  329.08  666.45   5,749,400\n",
              "2  1/5/2012  329.83  330.75  326.89  657.21   6,590,300\n",
              "3  1/6/2012  328.34  328.77  323.68  648.24   5,405,900\n",
              "4  1/9/2012  322.04  322.29  309.46  620.76  11,688,800"
            ]
          },
          "metadata": {
            "tags": []
          },
          "execution_count": 250
        }
      ]
    },
    {
      "cell_type": "code",
      "metadata": {
        "id": "Ek0a4B2UZREM",
        "colab_type": "code",
        "outputId": "1627f865-cb10-47a2-872c-9c9008aebc56",
        "colab": {
          "base_uri": "https://localhost:8080/",
          "height": 34
        }
      },
      "source": [
        "type(train_df[\"Date\"][0])"
      ],
      "execution_count": 251,
      "outputs": [
        {
          "output_type": "execute_result",
          "data": {
            "text/plain": [
              "str"
            ]
          },
          "metadata": {
            "tags": []
          },
          "execution_count": 251
        }
      ]
    },
    {
      "cell_type": "code",
      "metadata": {
        "id": "sorNFDFYZdSA",
        "colab_type": "code",
        "outputId": "3d9e4f84-2434-45fb-8cdd-219f22b46f2c",
        "colab": {
          "base_uri": "https://localhost:8080/",
          "height": 51
        }
      },
      "source": [
        "train_df[\"Date\"]=pd.to_datetime(train_df[\"Date\"])\n",
        "test_df[\"Date\"]=pd.to_datetime(test_df[\"Date\"])\n",
        "type(train_df[\"Date\"][0]),type(test_df[\"Date\"][0])"
      ],
      "execution_count": 252,
      "outputs": [
        {
          "output_type": "execute_result",
          "data": {
            "text/plain": [
              "(pandas._libs.tslibs.timestamps.Timestamp,\n",
              " pandas._libs.tslibs.timestamps.Timestamp)"
            ]
          },
          "metadata": {
            "tags": []
          },
          "execution_count": 252
        }
      ]
    },
    {
      "cell_type": "code",
      "metadata": {
        "id": "D7BdkcRwZyuk",
        "colab_type": "code",
        "outputId": "64bccfeb-e88e-4605-ecf2-f881f54f8b56",
        "colab": {
          "base_uri": "https://localhost:8080/",
          "height": 204
        }
      },
      "source": [
        "train_df.head()"
      ],
      "execution_count": 253,
      "outputs": [
        {
          "output_type": "execute_result",
          "data": {
            "text/html": [
              "<div>\n",
              "<style scoped>\n",
              "    .dataframe tbody tr th:only-of-type {\n",
              "        vertical-align: middle;\n",
              "    }\n",
              "\n",
              "    .dataframe tbody tr th {\n",
              "        vertical-align: top;\n",
              "    }\n",
              "\n",
              "    .dataframe thead th {\n",
              "        text-align: right;\n",
              "    }\n",
              "</style>\n",
              "<table border=\"1\" class=\"dataframe\">\n",
              "  <thead>\n",
              "    <tr style=\"text-align: right;\">\n",
              "      <th></th>\n",
              "      <th>Date</th>\n",
              "      <th>Open</th>\n",
              "      <th>High</th>\n",
              "      <th>Low</th>\n",
              "      <th>Close</th>\n",
              "      <th>Volume</th>\n",
              "    </tr>\n",
              "  </thead>\n",
              "  <tbody>\n",
              "    <tr>\n",
              "      <th>0</th>\n",
              "      <td>2012-01-03</td>\n",
              "      <td>325.25</td>\n",
              "      <td>332.83</td>\n",
              "      <td>324.97</td>\n",
              "      <td>663.59</td>\n",
              "      <td>7,380,500</td>\n",
              "    </tr>\n",
              "    <tr>\n",
              "      <th>1</th>\n",
              "      <td>2012-01-04</td>\n",
              "      <td>331.27</td>\n",
              "      <td>333.87</td>\n",
              "      <td>329.08</td>\n",
              "      <td>666.45</td>\n",
              "      <td>5,749,400</td>\n",
              "    </tr>\n",
              "    <tr>\n",
              "      <th>2</th>\n",
              "      <td>2012-01-05</td>\n",
              "      <td>329.83</td>\n",
              "      <td>330.75</td>\n",
              "      <td>326.89</td>\n",
              "      <td>657.21</td>\n",
              "      <td>6,590,300</td>\n",
              "    </tr>\n",
              "    <tr>\n",
              "      <th>3</th>\n",
              "      <td>2012-01-06</td>\n",
              "      <td>328.34</td>\n",
              "      <td>328.77</td>\n",
              "      <td>323.68</td>\n",
              "      <td>648.24</td>\n",
              "      <td>5,405,900</td>\n",
              "    </tr>\n",
              "    <tr>\n",
              "      <th>4</th>\n",
              "      <td>2012-01-09</td>\n",
              "      <td>322.04</td>\n",
              "      <td>322.29</td>\n",
              "      <td>309.46</td>\n",
              "      <td>620.76</td>\n",
              "      <td>11,688,800</td>\n",
              "    </tr>\n",
              "  </tbody>\n",
              "</table>\n",
              "</div>"
            ],
            "text/plain": [
              "        Date    Open    High     Low   Close      Volume\n",
              "0 2012-01-03  325.25  332.83  324.97  663.59   7,380,500\n",
              "1 2012-01-04  331.27  333.87  329.08  666.45   5,749,400\n",
              "2 2012-01-05  329.83  330.75  326.89  657.21   6,590,300\n",
              "3 2012-01-06  328.34  328.77  323.68  648.24   5,405,900\n",
              "4 2012-01-09  322.04  322.29  309.46  620.76  11,688,800"
            ]
          },
          "metadata": {
            "tags": []
          },
          "execution_count": 253
        }
      ]
    },
    {
      "cell_type": "code",
      "metadata": {
        "id": "rUODvtMNZ59D",
        "colab_type": "code",
        "outputId": "170d5dc5-c1eb-4e89-a61f-3af1c84c3c24",
        "colab": {
          "base_uri": "https://localhost:8080/",
          "height": 282
        }
      },
      "source": [
        "train_df[\"Open\"].hist()"
      ],
      "execution_count": 254,
      "outputs": [
        {
          "output_type": "execute_result",
          "data": {
            "text/plain": [
              "<matplotlib.axes._subplots.AxesSubplot at 0x7f437c683c88>"
            ]
          },
          "metadata": {
            "tags": []
          },
          "execution_count": 254
        },
        {
          "output_type": "display_data",
          "data": {
            "image/png": "[encoded data removed]",
            "text/plain": [
              "<Figure size 432x288 with 1 Axes>"
            ]
          },
          "metadata": {
            "tags": []
          }
        }
      ]
    },
    {
      "cell_type": "code",
      "metadata": {
        "id": "aCDXI5zcaQW5",
        "colab_type": "code",
        "outputId": "37e66fc5-893e-4e4e-cc17-8c6c71fe382d",
        "colab": {
          "base_uri": "https://localhost:8080/",
          "height": 296
        }
      },
      "source": [
        "sns.distplot(train_df[\"Open\"])"
      ],
      "execution_count": 255,
      "outputs": [
        {
          "output_type": "execute_result",
          "data": {
            "text/plain": [
              "<matplotlib.axes._subplots.AxesSubplot at 0x7f437c760080>"
            ]
          },
          "metadata": {
            "tags": []
          },
          "execution_count": 255
        },
        {
          "output_type": "display_data",
          "data": {
            "image/png": "[encoded data removed]",
            "text/plain": [
              "<Figure size 432x288 with 1 Axes>"
            ]
          },
          "metadata": {
            "tags": []
          }
        }
      ]
    },
    {
      "cell_type": "markdown",
      "metadata": {
        "id": "Aus0tsb0ajlA",
        "colab_type": "text"
      },
      "source": [
        "checking the distribution of Test data "
      ]
    },
    {
      "cell_type": "code",
      "metadata": {
        "id": "X0YTmSf4abQT",
        "colab_type": "code",
        "outputId": "9a1a0aa5-d0e5-46bd-bdd9-12b448262cd8",
        "colab": {
          "base_uri": "https://localhost:8080/",
          "height": 296
        }
      },
      "source": [
        "sns.distplot(test_df[\"Open\"])"
      ],
      "execution_count": 256,
      "outputs": [
        {
          "output_type": "execute_result",
          "data": {
            "text/plain": [
              "<matplotlib.axes._subplots.AxesSubplot at 0x7f437c571208>"
            ]
          },
          "metadata": {
            "tags": []
          },
          "execution_count": 256
        },
        {
          "output_type": "display_data",
          "data": {
            "image/png": "[encoded data removed]",
            "text/plain": [
              "<Figure size 432x288 with 1 Axes>"
            ]
          },
          "metadata": {
            "tags": []
          }
        }
      ]
    },
    {
      "cell_type": "code",
      "metadata": {
        "id": "wqlVzSl6apAI",
        "colab_type": "code",
        "outputId": "d1571d46-4987-44b7-c629-a1de599ac155",
        "colab": {
          "base_uri": "https://localhost:8080/",
          "height": 34
        }
      },
      "source": [
        "test_df[\"Open\"].skew()"
      ],
      "execution_count": 257,
      "outputs": [
        {
          "output_type": "execute_result",
          "data": {
            "text/plain": [
              "0.8764825740398502"
            ]
          },
          "metadata": {
            "tags": []
          },
          "execution_count": 257
        }
      ]
    },
    {
      "cell_type": "markdown",
      "metadata": {
        "id": "3J6jepITawD0",
        "colab_type": "text"
      },
      "source": [
        "Data Pre processing:Preparing the data for model. The model weare using is LSTM and we will be using a sequence of 60 ,it means that consecutive 59 open values of stock will be used as features to predict target open value which is 60th open value."
      ]
    },
    {
      "cell_type": "markdown",
      "metadata": {
        "id": "bs-VBAzoglDj",
        "colab_type": "text"
      },
      "source": [
        "The LSTM or any deeeplearning model works best with scaled data . So we will be scaling the data using standard scaler."
      ]
    },
    {
      "cell_type": "code",
      "metadata": {
        "id": "bkBUF6_kjNOv",
        "colab_type": "code",
        "outputId": "1202e1ce-9fe0-4137-ac22-5427025cc7ba",
        "colab": {
          "base_uri": "https://localhost:8080/",
          "height": 34
        }
      },
      "source": [
        "train_data=train_df.Open.values\n",
        "test_data=test_df.Open.values\n",
        "train_data.shape,test_data.shape"
      ],
      "execution_count": 258,
      "outputs": [
        {
          "output_type": "execute_result",
          "data": {
            "text/plain": [
              "((1258,), (81,))"
            ]
          },
          "metadata": {
            "tags": []
          },
          "execution_count": 258
        }
      ]
    },
    {
      "cell_type": "code",
      "metadata": {
        "id": "EYA0H5BWi1o0",
        "colab_type": "code",
        "colab": {}
      },
      "source": [
        "from sklearn.preprocessing import MinMaxScaler\n",
        "mm=MinMaxScaler(feature_range=(0,1))\n",
        "train_open_values=mm.fit_transform(train_data.reshape(-1,1))\n",
        "test_open_values=mm.fit_transform(test_data.reshape(-1,1))\n"
      ],
      "execution_count": 0,
      "outputs": []
    },
    {
      "cell_type": "code",
      "metadata": {
        "id": "NRecNXZXjZh_",
        "colab_type": "code",
        "outputId": "eef09b4b-e3ce-4841-9cc6-59dca94d2f69",
        "colab": {
          "base_uri": "https://localhost:8080/",
          "height": 136
        }
      },
      "source": [
        "train_open_values"
      ],
      "execution_count": 260,
      "outputs": [
        {
          "output_type": "execute_result",
          "data": {
            "text/plain": [
              "array([[0.08581368],\n",
              "       [0.09701243],\n",
              "       [0.09433366],\n",
              "       ...,\n",
              "       [0.95725128],\n",
              "       [0.93796041],\n",
              "       [0.93688146]])"
            ]
          },
          "metadata": {
            "tags": []
          },
          "execution_count": 260
        }
      ]
    },
    {
      "cell_type": "code",
      "metadata": {
        "id": "VMWtPvUVjpbH",
        "colab_type": "code",
        "outputId": "4d23edc7-0a34-4421-d86f-66004757d58d",
        "colab": {
          "base_uri": "https://localhost:8080/",
          "height": 1000
        }
      },
      "source": [
        "test_open_values"
      ],
      "execution_count": 261,
      "outputs": [
        {
          "output_type": "execute_result",
          "data": {
            "text/plain": [
              "array([[0.        ],\n",
              "       [0.07243081],\n",
              "       [0.05513843],\n",
              "       [0.12476301],\n",
              "       [0.20925298],\n",
              "       [0.22032617],\n",
              "       [0.19863485],\n",
              "       [0.21486542],\n",
              "       [0.21744411],\n",
              "       [0.21441036],\n",
              "       [0.2047782 ],\n",
              "       [0.19954498],\n",
              "       [0.21312101],\n",
              "       [0.2156997 ],\n",
              "       [0.32984459],\n",
              "       [0.38536223],\n",
              "       [0.44747829],\n",
              "       [0.42396672],\n",
              "       [0.27189994],\n",
              "       [0.13689802],\n",
              "       [0.15828591],\n",
              "       [0.11368973],\n",
              "       [0.18339018],\n",
              "       [0.15843774],\n",
              "       [0.19097456],\n",
              "       [0.21380361],\n",
              "       [0.23284047],\n",
              "       [0.24945027],\n",
              "       [0.28206301],\n",
              "       [0.30481614],\n",
              "       [0.3075464 ],\n",
              "       [0.31186956],\n",
              "       [0.33530549],\n",
              "       [0.37808103],\n",
              "       [0.37808103],\n",
              "       [0.38915438],\n",
              "       [0.37102761],\n",
              "       [0.34690935],\n",
              "       [0.35494876],\n",
              "       [0.37952208],\n",
              "       [0.41744397],\n",
              "       [0.39249153],\n",
              "       [0.36511204],\n",
              "       [0.3685251 ],\n",
              "       [0.41486554],\n",
              "       [0.43375056],\n",
              "       [0.48896505],\n",
              "       [0.49442558],\n",
              "       [0.49169532],\n",
              "       [0.52165371],\n",
              "       [0.53257522],\n",
              "       [0.55214259],\n",
              "       [0.54000777],\n",
              "       [0.55055016],\n",
              "       [0.40273025],\n",
              "       [0.3199849 ],\n",
              "       [0.3130074 ],\n",
              "       [0.21342448],\n",
              "       [0.31550991],\n",
              "       [0.35032241],\n",
              "       [0.41478962],\n",
              "       [0.38043217],\n",
              "       [0.38232826],\n",
              "       [0.39855894],\n",
              "       [0.43003429],\n",
              "       [0.40644699],\n",
              "       [0.37277233],\n",
              "       [0.35328043],\n",
              "       [0.34812311],\n",
              "       [0.32703831],\n",
              "       [0.3286312 ],\n",
              "       [0.35039833],\n",
              "       [0.42025015],\n",
              "       [0.46249519],\n",
              "       [0.47500959],\n",
              "       [0.48593112],\n",
              "       [0.5490332 ],\n",
              "       [0.65369752],\n",
              "       [0.72370117],\n",
              "       [0.71892298],\n",
              "       [1.        ]])"
            ]
          },
          "metadata": {
            "tags": []
          },
          "execution_count": 261
        }
      ]
    },
    {
      "cell_type": "code",
      "metadata": {
        "id": "JtlfU5JifhbL",
        "colab_type": "code",
        "outputId": "bd7edc75-89cf-4955-da06-401cff2e7d76",
        "colab": {
          "base_uri": "https://localhost:8080/",
          "height": 34
        }
      },
      "source": [
        "test_open_values.shape"
      ],
      "execution_count": 262,
      "outputs": [
        {
          "output_type": "execute_result",
          "data": {
            "text/plain": [
              "(81, 1)"
            ]
          },
          "metadata": {
            "tags": []
          },
          "execution_count": 262
        }
      ]
    },
    {
      "cell_type": "markdown",
      "metadata": {
        "id": "se1n2JNMeQGd",
        "colab_type": "text"
      },
      "source": [
        "creating train and test data with features and target."
      ]
    },
    {
      "cell_type": "code",
      "metadata": {
        "id": "OgQp4RMcmHhp",
        "colab_type": "code",
        "colab": {
          "base_uri": "https://localhost:8080/",
          "height": 34
        },
        "outputId": "8e98eea6-45b0-4748-8a44-0f7552d7cf3e"
      },
      "source": [
        "len(train_df.Open)"
      ],
      "execution_count": 263,
      "outputs": [
        {
          "output_type": "execute_result",
          "data": {
            "text/plain": [
              "1258"
            ]
          },
          "metadata": {
            "tags": []
          },
          "execution_count": 263
        }
      ]
    },
    {
      "cell_type": "code",
      "metadata": {
        "id": "n8zyaPvccoEN",
        "colab_type": "code",
        "colab": {}
      },
      "source": [
        "X_train=[]\n",
        "y_train=[]\n",
        "\n",
        "for i in range(60,len(train_df.Open)):\n",
        "  X_train.append(train_open_values[i-60:i])\n",
        "  y_train.append(train_open_values[i])"
      ],
      "execution_count": 0,
      "outputs": []
    },
    {
      "cell_type": "code",
      "metadata": {
        "id": "ysAYbO3lkgC2",
        "colab_type": "code",
        "colab": {
          "base_uri": "https://localhost:8080/",
          "height": 34
        },
        "outputId": "43f9a123-d912-4e13-f304-e3a22a1690ee"
      },
      "source": [
        "X_train[2].shape"
      ],
      "execution_count": 265,
      "outputs": [
        {
          "output_type": "execute_result",
          "data": {
            "text/plain": [
              "(60, 1)"
            ]
          },
          "metadata": {
            "tags": []
          },
          "execution_count": 265
        }
      ]
    },
    {
      "cell_type": "code",
      "metadata": {
        "id": "fOoCcDsCeZS_",
        "colab_type": "code",
        "colab": {}
      },
      "source": [
        "X_test=[]\n",
        "y_test=[]\n",
        "\n",
        "for i in range(60,len(test_df.Open)):\n",
        "  X_test.append(test_open_values[i-60:i])\n",
        "  y_test.append(test_open_values[i])"
      ],
      "execution_count": 0,
      "outputs": []
    },
    {
      "cell_type": "markdown",
      "metadata": {
        "id": "CbODDngYf-ve",
        "colab_type": "text"
      },
      "source": [
        "The data in LSTM requires np array as inputs and needs to be reshaped as (shape[0],shape[1],1)\n"
      ]
    },
    {
      "cell_type": "code",
      "metadata": {
        "id": "6BIZjfRoeBzi",
        "colab_type": "code",
        "colab": {}
      },
      "source": [
        "X_train=np.array(X_train)\n",
        "y_train=np.array(y_train)\n",
        "\n",
        "X_test=np.array(X_test)\n",
        "y_test=np.array(y_test)"
      ],
      "execution_count": 0,
      "outputs": []
    },
    {
      "cell_type": "code",
      "metadata": {
        "id": "QVEa_k-6fH82",
        "colab_type": "code",
        "outputId": "701b27eb-aa6a-414a-bf67-ec25657f72be",
        "colab": {
          "base_uri": "https://localhost:8080/",
          "height": 34
        }
      },
      "source": [
        "X_train[0].shape,X_test.shape"
      ],
      "execution_count": 268,
      "outputs": [
        {
          "output_type": "execute_result",
          "data": {
            "text/plain": [
              "((60, 1), (21, 60, 1))"
            ]
          },
          "metadata": {
            "tags": []
          },
          "execution_count": 268
        }
      ]
    },
    {
      "cell_type": "code",
      "metadata": {
        "id": "w8Xdnhkyfxnq",
        "colab_type": "code",
        "colab": {}
      },
      "source": [
        "X_train_ls=X_train.reshape(-1,X_train[0].shape[0],1)\n",
        "y_train_ls=y_train\n",
        "\n",
        "X_test_ls=X_test.reshape(-1,X_test[0].shape[0],1)\n",
        "y_test_ls=y_test"
      ],
      "execution_count": 0,
      "outputs": []
    },
    {
      "cell_type": "code",
      "metadata": {
        "id": "mvjFEWNUmoAs",
        "colab_type": "code",
        "colab": {
          "base_uri": "https://localhost:8080/",
          "height": 34
        },
        "outputId": "bdeb3328-693e-49be-e14c-6cff60dc2814"
      },
      "source": [
        "X_train_ls.shape,y_train_ls.shape  #shape of input data"
      ],
      "execution_count": 270,
      "outputs": [
        {
          "output_type": "execute_result",
          "data": {
            "text/plain": [
              "((1198, 60, 1), (1198, 1))"
            ]
          },
          "metadata": {
            "tags": []
          },
          "execution_count": 270
        }
      ]
    },
    {
      "cell_type": "code",
      "metadata": {
        "id": "IjBHeHh4wbaW",
        "colab_type": "code",
        "colab": {
          "base_uri": "https://localhost:8080/",
          "height": 34
        },
        "outputId": "8e964315-6795-42ce-b417-c1c28f3aea17"
      },
      "source": [
        "X_test_ls.shape,y_test_ls.shape"
      ],
      "execution_count": 271,
      "outputs": [
        {
          "output_type": "execute_result",
          "data": {
            "text/plain": [
              "((21, 60, 1), (21, 1))"
            ]
          },
          "metadata": {
            "tags": []
          },
          "execution_count": 271
        }
      ]
    },
    {
      "cell_type": "markdown",
      "metadata": {
        "id": "T2iK_1UVmtx1",
        "colab_type": "text"
      },
      "source": [
        "Making LSTM model"
      ]
    },
    {
      "cell_type": "code",
      "metadata": {
        "id": "65QhRXAznIiF",
        "colab_type": "code",
        "colab": {}
      },
      "source": [
        "from keras.models import Sequential\n",
        "from keras.layers import Dense,LSTM,Dropout\n",
        "from keras.activations import relu\n",
        "from keras.callbacks import EarlyStopping"
      ],
      "execution_count": 0,
      "outputs": []
    },
    {
      "cell_type": "code",
      "metadata": {
        "id": "e4dZaL5yn7_I",
        "colab_type": "code",
        "colab": {}
      },
      "source": [
        "model=Sequential()\n",
        "model.add(LSTM(100,activation=\"relu\",input_shape=(X_train_ls.shape[1],1),return_sequences=True))\n",
        "model.add(Dropout(0.3))\n",
        "model.add(LSTM(100,activation=\"relu\",return_sequences=True))\n",
        "model.add(Dropout(0.3))\n",
        "model.add(LSTM(100,activation=\"relu\",return_sequences=False))\n",
        "model.add(Dropout(0.3))\n",
        "model.add(Dense(1))"
      ],
      "execution_count": 0,
      "outputs": []
    },
    {
      "cell_type": "code",
      "metadata": {
        "id": "zA27swygpiB7",
        "colab_type": "code",
        "colab": {}
      },
      "source": [
        "#es =EarlyStopping(monitor=\"val_loss\",patience=5)"
      ],
      "execution_count": 0,
      "outputs": []
    },
    {
      "cell_type": "code",
      "metadata": {
        "id": "IOO0wvqwpw3-",
        "colab_type": "code",
        "colab": {
          "base_uri": "https://localhost:8080/",
          "height": 391
        },
        "outputId": "a962625e-e588-452c-b62a-62c666ee44f9"
      },
      "source": [
        "model.compile(optimizer=\"adam\",loss=\"mse\",metrics=[\"mse\"])\n",
        "model.summary()"
      ],
      "execution_count": 278,
      "outputs": [
        {
          "output_type": "stream",
          "text": [
            "Model: \"sequential_10\"\n",
            "_________________________________________________________________\n",
            "Layer (type)                 Output Shape              Param #   \n",
            "=================================================================\n",
            "lstm_16 (LSTM)               (None, 60, 100)           40800     \n",
            "_________________________________________________________________\n",
            "dropout_14 (Dropout)         (None, 60, 100)           0         \n",
            "_________________________________________________________________\n",
            "lstm_17 (LSTM)               (None, 60, 100)           80400     \n",
            "_________________________________________________________________\n",
            "dropout_15 (Dropout)         (None, 60, 100)           0         \n",
            "_________________________________________________________________\n",
            "lstm_18 (LSTM)               (None, 100)               80400     \n",
            "_________________________________________________________________\n",
            "dropout_16 (Dropout)         (None, 100)               0         \n",
            "_________________________________________________________________\n",
            "dense_5 (Dense)              (None, 1)                 101       \n",
            "=================================================================\n",
            "Total params: 201,701\n",
            "Trainable params: 201,701\n",
            "Non-trainable params: 0\n",
            "_________________________________________________________________\n"
          ],
          "name": "stdout"
        }
      ]
    },
    {
      "cell_type": "code",
      "metadata": {
        "id": "kTHUHmjJqLHc",
        "colab_type": "code",
        "colab": {
          "base_uri": "https://localhost:8080/",
          "height": 1000
        },
        "outputId": "3a5d5ef7-dac4-4968-b47a-0165900f26e7"
      },
      "source": [
        "history=model.fit(X_train_ls,y_train_ls,batch_size=32,epochs=100,validation_split=0.2)"
      ],
      "execution_count": 279,
      "outputs": [
        {
          "output_type": "stream",
          "text": [
            "Train on 958 samples, validate on 240 samples\n",
            "Epoch 1/100\n",
            "958/958 [==============================] - 21s 22ms/step - loss: 0.0667 - mean_squared_error: 0.0667 - val_loss: 0.0034 - val_mean_squared_error: 0.0034\n",
            "Epoch 2/100\n",
            "958/958 [==============================] - 12s 13ms/step - loss: 0.0064 - mean_squared_error: 0.0064 - val_loss: 0.0023 - val_mean_squared_error: 0.0023\n",
            "Epoch 3/100\n",
            "958/958 [==============================] - 13s 13ms/step - loss: 0.0045 - mean_squared_error: 0.0045 - val_loss: 0.0041 - val_mean_squared_error: 0.0041\n",
            "Epoch 4/100\n",
            "958/958 [==============================] - 12s 13ms/step - loss: 0.0051 - mean_squared_error: 0.0051 - val_loss: 0.0018 - val_mean_squared_error: 0.0018\n",
            "Epoch 5/100\n",
            "958/958 [==============================] - 12s 13ms/step - loss: 0.0047 - mean_squared_error: 0.0047 - val_loss: 0.0024 - val_mean_squared_error: 0.0024\n",
            "Epoch 6/100\n",
            "958/958 [==============================] - 12s 13ms/step - loss: 0.0040 - mean_squared_error: 0.0040 - val_loss: 0.0035 - val_mean_squared_error: 0.0035\n",
            "Epoch 7/100\n",
            "958/958 [==============================] - 12s 13ms/step - loss: 0.0041 - mean_squared_error: 0.0041 - val_loss: 0.0020 - val_mean_squared_error: 0.0020\n",
            "Epoch 8/100\n",
            "958/958 [==============================] - 12s 13ms/step - loss: 0.0048 - mean_squared_error: 0.0048 - val_loss: 0.0017 - val_mean_squared_error: 0.0017\n",
            "Epoch 9/100\n",
            "958/958 [==============================] - 12s 12ms/step - loss: 0.0055 - mean_squared_error: 0.0055 - val_loss: 0.0172 - val_mean_squared_error: 0.0172\n",
            "Epoch 10/100\n",
            "958/958 [==============================] - 12s 12ms/step - loss: 0.0042 - mean_squared_error: 0.0042 - val_loss: 0.0039 - val_mean_squared_error: 0.0039\n",
            "Epoch 11/100\n",
            "958/958 [==============================] - 12s 13ms/step - loss: 0.0037 - mean_squared_error: 0.0037 - val_loss: 0.0078 - val_mean_squared_error: 0.0078\n",
            "Epoch 12/100\n",
            "958/958 [==============================] - 12s 13ms/step - loss: 0.0041 - mean_squared_error: 0.0041 - val_loss: 0.0015 - val_mean_squared_error: 0.0015\n",
            "Epoch 13/100\n",
            "958/958 [==============================] - 12s 13ms/step - loss: 0.0038 - mean_squared_error: 0.0038 - val_loss: 0.0015 - val_mean_squared_error: 0.0015\n",
            "Epoch 14/100\n",
            "958/958 [==============================] - 12s 13ms/step - loss: 0.0037 - mean_squared_error: 0.0037 - val_loss: 0.0015 - val_mean_squared_error: 0.0015\n",
            "Epoch 15/100\n",
            "958/958 [==============================] - 12s 13ms/step - loss: 0.0036 - mean_squared_error: 0.0036 - val_loss: 0.0028 - val_mean_squared_error: 0.0028\n",
            "Epoch 16/100\n",
            "958/958 [==============================] - 12s 13ms/step - loss: 0.0035 - mean_squared_error: 0.0035 - val_loss: 0.0030 - val_mean_squared_error: 0.0030\n",
            "Epoch 17/100\n",
            "958/958 [==============================] - 12s 13ms/step - loss: 0.0034 - mean_squared_error: 0.0034 - val_loss: 0.0016 - val_mean_squared_error: 0.0016\n",
            "Epoch 18/100\n",
            "958/958 [==============================] - 12s 13ms/step - loss: 0.0037 - mean_squared_error: 0.0037 - val_loss: 0.0032 - val_mean_squared_error: 0.0032\n",
            "Epoch 19/100\n",
            "958/958 [==============================] - 12s 13ms/step - loss: 0.0035 - mean_squared_error: 0.0035 - val_loss: 0.0013 - val_mean_squared_error: 0.0013\n",
            "Epoch 20/100\n",
            "958/958 [==============================] - 12s 13ms/step - loss: 0.0033 - mean_squared_error: 0.0033 - val_loss: 0.0015 - val_mean_squared_error: 0.0015\n",
            "Epoch 21/100\n",
            "958/958 [==============================] - 13s 13ms/step - loss: 0.0032 - mean_squared_error: 0.0032 - val_loss: 0.0031 - val_mean_squared_error: 0.0031\n",
            "Epoch 22/100\n",
            "958/958 [==============================] - 12s 13ms/step - loss: 0.0034 - mean_squared_error: 0.0034 - val_loss: 0.0013 - val_mean_squared_error: 0.0013\n",
            "Epoch 23/100\n",
            "958/958 [==============================] - 12s 13ms/step - loss: 0.0032 - mean_squared_error: 0.0032 - val_loss: 0.0021 - val_mean_squared_error: 0.0021\n",
            "Epoch 24/100\n",
            "958/958 [==============================] - 12s 13ms/step - loss: 0.0028 - mean_squared_error: 0.0028 - val_loss: 0.0013 - val_mean_squared_error: 0.0013\n",
            "Epoch 25/100\n",
            "958/958 [==============================] - 12s 13ms/step - loss: 0.0029 - mean_squared_error: 0.0029 - val_loss: 0.0028 - val_mean_squared_error: 0.0028\n",
            "Epoch 26/100\n",
            "958/958 [==============================] - 12s 13ms/step - loss: 0.0030 - mean_squared_error: 0.0030 - val_loss: 0.0053 - val_mean_squared_error: 0.0053\n",
            "Epoch 27/100\n",
            "958/958 [==============================] - 13s 13ms/step - loss: 0.0030 - mean_squared_error: 0.0030 - val_loss: 0.0065 - val_mean_squared_error: 0.0065\n",
            "Epoch 28/100\n",
            "958/958 [==============================] - 12s 13ms/step - loss: 0.0031 - mean_squared_error: 0.0031 - val_loss: 0.0012 - val_mean_squared_error: 0.0012\n",
            "Epoch 29/100\n",
            "958/958 [==============================] - 12s 13ms/step - loss: 0.0027 - mean_squared_error: 0.0027 - val_loss: 0.0021 - val_mean_squared_error: 0.0021\n",
            "Epoch 30/100\n",
            "958/958 [==============================] - 12s 13ms/step - loss: 0.0030 - mean_squared_error: 0.0030 - val_loss: 0.0041 - val_mean_squared_error: 0.0041\n",
            "Epoch 31/100\n",
            "958/958 [==============================] - 12s 13ms/step - loss: 0.0029 - mean_squared_error: 0.0029 - val_loss: 0.0013 - val_mean_squared_error: 0.0013\n",
            "Epoch 32/100\n",
            "958/958 [==============================] - 12s 13ms/step - loss: 0.0028 - mean_squared_error: 0.0028 - val_loss: 0.0047 - val_mean_squared_error: 0.0047\n",
            "Epoch 33/100\n",
            "958/958 [==============================] - 12s 13ms/step - loss: 0.0029 - mean_squared_error: 0.0029 - val_loss: 0.0012 - val_mean_squared_error: 0.0012\n",
            "Epoch 34/100\n",
            "958/958 [==============================] - 12s 13ms/step - loss: 0.0027 - mean_squared_error: 0.0027 - val_loss: 0.0019 - val_mean_squared_error: 0.0019\n",
            "Epoch 35/100\n",
            "958/958 [==============================] - 12s 13ms/step - loss: 0.0029 - mean_squared_error: 0.0029 - val_loss: 0.0117 - val_mean_squared_error: 0.0117\n",
            "Epoch 36/100\n",
            "958/958 [==============================] - 12s 13ms/step - loss: 0.0030 - mean_squared_error: 0.0030 - val_loss: 0.0011 - val_mean_squared_error: 0.0011\n",
            "Epoch 37/100\n",
            "958/958 [==============================] - 12s 13ms/step - loss: 0.0027 - mean_squared_error: 0.0027 - val_loss: 0.0017 - val_mean_squared_error: 0.0017\n",
            "Epoch 38/100\n",
            "958/958 [==============================] - 12s 13ms/step - loss: 0.0025 - mean_squared_error: 0.0025 - val_loss: 0.0021 - val_mean_squared_error: 0.0021\n",
            "Epoch 39/100\n",
            "958/958 [==============================] - 12s 13ms/step - loss: 0.0025 - mean_squared_error: 0.0025 - val_loss: 0.0011 - val_mean_squared_error: 0.0011\n",
            "Epoch 40/100\n",
            "958/958 [==============================] - 12s 13ms/step - loss: 0.0023 - mean_squared_error: 0.0023 - val_loss: 0.0019 - val_mean_squared_error: 0.0019\n",
            "Epoch 41/100\n",
            "958/958 [==============================] - 12s 13ms/step - loss: 0.0022 - mean_squared_error: 0.0022 - val_loss: 0.0023 - val_mean_squared_error: 0.0023\n",
            "Epoch 42/100\n",
            "958/958 [==============================] - 12s 13ms/step - loss: 0.0026 - mean_squared_error: 0.0026 - val_loss: 0.0036 - val_mean_squared_error: 0.0036\n",
            "Epoch 43/100\n",
            "958/958 [==============================] - 12s 13ms/step - loss: 0.0024 - mean_squared_error: 0.0024 - val_loss: 0.0010 - val_mean_squared_error: 0.0010\n",
            "Epoch 44/100\n",
            "958/958 [==============================] - 12s 13ms/step - loss: 0.0025 - mean_squared_error: 0.0025 - val_loss: 0.0011 - val_mean_squared_error: 0.0011\n",
            "Epoch 45/100\n",
            "958/958 [==============================] - 12s 13ms/step - loss: 0.0023 - mean_squared_error: 0.0023 - val_loss: 0.0039 - val_mean_squared_error: 0.0039\n",
            "Epoch 46/100\n",
            "958/958 [==============================] - 12s 13ms/step - loss: 0.0023 - mean_squared_error: 0.0023 - val_loss: 0.0013 - val_mean_squared_error: 0.0013\n",
            "Epoch 47/100\n",
            "958/958 [==============================] - 12s 13ms/step - loss: 0.0024 - mean_squared_error: 0.0024 - val_loss: 0.0016 - val_mean_squared_error: 0.0016\n",
            "Epoch 48/100\n",
            "958/958 [==============================] - 12s 13ms/step - loss: 0.0024 - mean_squared_error: 0.0024 - val_loss: 0.0020 - val_mean_squared_error: 0.0020\n",
            "Epoch 49/100\n",
            "958/958 [==============================] - 12s 13ms/step - loss: 0.0026 - mean_squared_error: 0.0026 - val_loss: 0.0022 - val_mean_squared_error: 0.0022\n",
            "Epoch 50/100\n",
            "958/958 [==============================] - 12s 13ms/step - loss: 0.0021 - mean_squared_error: 0.0021 - val_loss: 0.0018 - val_mean_squared_error: 0.0018\n",
            "Epoch 51/100\n",
            "958/958 [==============================] - 12s 13ms/step - loss: 0.0022 - mean_squared_error: 0.0022 - val_loss: 0.0015 - val_mean_squared_error: 0.0015\n",
            "Epoch 52/100\n",
            "958/958 [==============================] - 12s 13ms/step - loss: 0.0023 - mean_squared_error: 0.0023 - val_loss: 9.8518e-04 - val_mean_squared_error: 9.8518e-04\n",
            "Epoch 53/100\n",
            "958/958 [==============================] - 12s 13ms/step - loss: 0.0022 - mean_squared_error: 0.0022 - val_loss: 0.0027 - val_mean_squared_error: 0.0027\n",
            "Epoch 54/100\n",
            "958/958 [==============================] - 12s 13ms/step - loss: 0.0020 - mean_squared_error: 0.0020 - val_loss: 0.0018 - val_mean_squared_error: 0.0018\n",
            "Epoch 55/100\n",
            "958/958 [==============================] - 12s 13ms/step - loss: 0.0020 - mean_squared_error: 0.0020 - val_loss: 0.0032 - val_mean_squared_error: 0.0032\n",
            "Epoch 56/100\n",
            "958/958 [==============================] - 12s 13ms/step - loss: 0.0022 - mean_squared_error: 0.0022 - val_loss: 0.0013 - val_mean_squared_error: 0.0013\n",
            "Epoch 57/100\n",
            "958/958 [==============================] - 12s 13ms/step - loss: 0.0023 - mean_squared_error: 0.0023 - val_loss: 0.0013 - val_mean_squared_error: 0.0013\n",
            "Epoch 58/100\n",
            "958/958 [==============================] - 12s 13ms/step - loss: 0.0019 - mean_squared_error: 0.0019 - val_loss: 0.0014 - val_mean_squared_error: 0.0014\n",
            "Epoch 59/100\n",
            "958/958 [==============================] - 12s 13ms/step - loss: 0.0021 - mean_squared_error: 0.0021 - val_loss: 0.0014 - val_mean_squared_error: 0.0014\n",
            "Epoch 60/100\n",
            "958/958 [==============================] - 12s 13ms/step - loss: 0.0021 - mean_squared_error: 0.0021 - val_loss: 9.7947e-04 - val_mean_squared_error: 9.7947e-04\n",
            "Epoch 61/100\n",
            "958/958 [==============================] - 12s 13ms/step - loss: 0.0021 - mean_squared_error: 0.0021 - val_loss: 0.0016 - val_mean_squared_error: 0.0016\n",
            "Epoch 62/100\n",
            "958/958 [==============================] - 12s 13ms/step - loss: 0.0019 - mean_squared_error: 0.0019 - val_loss: 0.0019 - val_mean_squared_error: 0.0019\n",
            "Epoch 63/100\n",
            "958/958 [==============================] - 12s 13ms/step - loss: 0.0021 - mean_squared_error: 0.0021 - val_loss: 0.0023 - val_mean_squared_error: 0.0023\n",
            "Epoch 64/100\n",
            "958/958 [==============================] - 12s 13ms/step - loss: 0.0019 - mean_squared_error: 0.0019 - val_loss: 9.4780e-04 - val_mean_squared_error: 9.4780e-04\n",
            "Epoch 65/100\n",
            "958/958 [==============================] - 12s 13ms/step - loss: 0.0020 - mean_squared_error: 0.0020 - val_loss: 0.0029 - val_mean_squared_error: 0.0029\n",
            "Epoch 66/100\n",
            "958/958 [==============================] - 12s 13ms/step - loss: 0.0018 - mean_squared_error: 0.0018 - val_loss: 0.0011 - val_mean_squared_error: 0.0011\n",
            "Epoch 67/100\n",
            "958/958 [==============================] - 12s 13ms/step - loss: 0.0019 - mean_squared_error: 0.0019 - val_loss: 0.0011 - val_mean_squared_error: 0.0011\n",
            "Epoch 68/100\n",
            "958/958 [==============================] - 12s 13ms/step - loss: 0.0017 - mean_squared_error: 0.0017 - val_loss: 0.0015 - val_mean_squared_error: 0.0015\n",
            "Epoch 69/100\n",
            "958/958 [==============================] - 12s 13ms/step - loss: 0.0019 - mean_squared_error: 0.0019 - val_loss: 0.0023 - val_mean_squared_error: 0.0023\n",
            "Epoch 70/100\n",
            "958/958 [==============================] - 12s 13ms/step - loss: 0.0016 - mean_squared_error: 0.0016 - val_loss: 0.0010 - val_mean_squared_error: 0.0010\n",
            "Epoch 71/100\n",
            "958/958 [==============================] - 12s 13ms/step - loss: 0.0018 - mean_squared_error: 0.0018 - val_loss: 0.0011 - val_mean_squared_error: 0.0011\n",
            "Epoch 72/100\n",
            "958/958 [==============================] - 12s 13ms/step - loss: 0.0017 - mean_squared_error: 0.0017 - val_loss: 8.7901e-04 - val_mean_squared_error: 8.7901e-04\n",
            "Epoch 73/100\n",
            "958/958 [==============================] - 12s 13ms/step - loss: 0.0018 - mean_squared_error: 0.0018 - val_loss: 0.0012 - val_mean_squared_error: 0.0012\n",
            "Epoch 74/100\n",
            "958/958 [==============================] - 12s 13ms/step - loss: 0.0017 - mean_squared_error: 0.0017 - val_loss: 9.8524e-04 - val_mean_squared_error: 9.8524e-04\n",
            "Epoch 75/100\n",
            "958/958 [==============================] - 12s 13ms/step - loss: 0.0018 - mean_squared_error: 0.0018 - val_loss: 8.2517e-04 - val_mean_squared_error: 8.2517e-04\n",
            "Epoch 76/100\n",
            "958/958 [==============================] - 12s 13ms/step - loss: 0.0018 - mean_squared_error: 0.0018 - val_loss: 0.0014 - val_mean_squared_error: 0.0014\n",
            "Epoch 77/100\n",
            "958/958 [==============================] - 12s 13ms/step - loss: 0.0018 - mean_squared_error: 0.0018 - val_loss: 0.0011 - val_mean_squared_error: 0.0011\n",
            "Epoch 78/100\n",
            "958/958 [==============================] - 12s 13ms/step - loss: 0.0016 - mean_squared_error: 0.0016 - val_loss: 8.0035e-04 - val_mean_squared_error: 8.0035e-04\n",
            "Epoch 79/100\n",
            "958/958 [==============================] - 12s 13ms/step - loss: 0.0019 - mean_squared_error: 0.0019 - val_loss: 0.0021 - val_mean_squared_error: 0.0021\n",
            "Epoch 80/100\n",
            "958/958 [==============================] - 12s 13ms/step - loss: 0.0017 - mean_squared_error: 0.0017 - val_loss: 0.0019 - val_mean_squared_error: 0.0019\n",
            "Epoch 81/100\n",
            "958/958 [==============================] - 12s 13ms/step - loss: 0.0016 - mean_squared_error: 0.0016 - val_loss: 0.0022 - val_mean_squared_error: 0.0022\n",
            "Epoch 82/100\n",
            "958/958 [==============================] - 12s 13ms/step - loss: 0.0018 - mean_squared_error: 0.0018 - val_loss: 0.0016 - val_mean_squared_error: 0.0016\n",
            "Epoch 83/100\n",
            "958/958 [==============================] - 12s 13ms/step - loss: 0.0015 - mean_squared_error: 0.0015 - val_loss: 8.7133e-04 - val_mean_squared_error: 8.7133e-04\n",
            "Epoch 84/100\n",
            "958/958 [==============================] - 12s 13ms/step - loss: 0.0020 - mean_squared_error: 0.0020 - val_loss: 9.3132e-04 - val_mean_squared_error: 9.3132e-04\n",
            "Epoch 85/100\n",
            "958/958 [==============================] - 12s 13ms/step - loss: 0.0019 - mean_squared_error: 0.0019 - val_loss: 0.0044 - val_mean_squared_error: 0.0044\n",
            "Epoch 86/100\n",
            "958/958 [==============================] - 12s 12ms/step - loss: 0.0016 - mean_squared_error: 0.0016 - val_loss: 0.0031 - val_mean_squared_error: 0.0031\n",
            "Epoch 87/100\n",
            "958/958 [==============================] - 12s 12ms/step - loss: 0.0016 - mean_squared_error: 0.0016 - val_loss: 7.7297e-04 - val_mean_squared_error: 7.7297e-04\n",
            "Epoch 88/100\n",
            "958/958 [==============================] - 12s 13ms/step - loss: 0.0017 - mean_squared_error: 0.0017 - val_loss: 0.0025 - val_mean_squared_error: 0.0025\n",
            "Epoch 89/100\n",
            "958/958 [==============================] - 12s 13ms/step - loss: 0.0016 - mean_squared_error: 0.0016 - val_loss: 0.0013 - val_mean_squared_error: 0.0013\n",
            "Epoch 90/100\n",
            "958/958 [==============================] - 12s 13ms/step - loss: 0.0016 - mean_squared_error: 0.0016 - val_loss: 0.0011 - val_mean_squared_error: 0.0011\n",
            "Epoch 91/100\n",
            "958/958 [==============================] - 12s 13ms/step - loss: 0.0016 - mean_squared_error: 0.0016 - val_loss: 0.0012 - val_mean_squared_error: 0.0012\n",
            "Epoch 92/100\n",
            "958/958 [==============================] - 12s 13ms/step - loss: 0.0015 - mean_squared_error: 0.0015 - val_loss: 9.9840e-04 - val_mean_squared_error: 9.9840e-04\n",
            "Epoch 93/100\n",
            "958/958 [==============================] - 12s 13ms/step - loss: 0.0013 - mean_squared_error: 0.0013 - val_loss: 8.2793e-04 - val_mean_squared_error: 8.2793e-04\n",
            "Epoch 94/100\n",
            "958/958 [==============================] - 12s 13ms/step - loss: 0.0015 - mean_squared_error: 0.0015 - val_loss: 8.2339e-04 - val_mean_squared_error: 8.2339e-04\n",
            "Epoch 95/100\n",
            "958/958 [==============================] - 12s 12ms/step - loss: 0.0014 - mean_squared_error: 0.0014 - val_loss: 0.0015 - val_mean_squared_error: 0.0015\n",
            "Epoch 96/100\n",
            "958/958 [==============================] - 12s 12ms/step - loss: 0.0017 - mean_squared_error: 0.0017 - val_loss: 9.1212e-04 - val_mean_squared_error: 9.1212e-04\n",
            "Epoch 97/100\n",
            "958/958 [==============================] - 12s 13ms/step - loss: 0.0014 - mean_squared_error: 0.0014 - val_loss: 0.0013 - val_mean_squared_error: 0.0013\n",
            "Epoch 98/100\n",
            "958/958 [==============================] - 12s 12ms/step - loss: 0.0014 - mean_squared_error: 0.0014 - val_loss: 0.0023 - val_mean_squared_error: 0.0023\n",
            "Epoch 99/100\n",
            "958/958 [==============================] - 11s 12ms/step - loss: 0.0014 - mean_squared_error: 0.0014 - val_loss: 0.0012 - val_mean_squared_error: 0.0012\n",
            "Epoch 100/100\n",
            "958/958 [==============================] - 12s 12ms/step - loss: 0.0016 - mean_squared_error: 0.0016 - val_loss: 7.8541e-04 - val_mean_squared_error: 7.8541e-04\n"
          ],
          "name": "stdout"
        }
      ]
    },
    {
      "cell_type": "code",
      "metadata": {
        "id": "EcZyw5_E3_L9",
        "colab_type": "code",
        "colab": {}
      },
      "source": [
        ""
      ],
      "execution_count": 0,
      "outputs": []
    },
    {
      "cell_type": "code",
      "metadata": {
        "id": "ieQC7ghGwxWw",
        "colab_type": "code",
        "colab": {
          "base_uri": "https://localhost:8080/",
          "height": 279
        },
        "outputId": "533dcc09-f693-4bb3-e500-6ece39fd7f95"
      },
      "source": [
        "plt.plot(history.history[\"loss\"])\n",
        "plt.plot(history.history[\"val_loss\"])\n",
        "plt.xlabel(\"Epochs\")\n",
        "plt.ylabel(\"loss\")\n",
        "plt.legend([\"loss\",\"validation loss\"])\n",
        "plt.show()"
      ],
      "execution_count": 280,
      "outputs": [
        {
          "output_type": "display_data",
          "data": {
            "image/png": "[encoded data removed]",
            "text/plain": [
              "<Figure size 432x288 with 1 Axes>"
            ]
          },
          "metadata": {
            "tags": []
          }
        }
      ]
    },
    {
      "cell_type": "code",
      "metadata": {
        "id": "yNDhDAuUy3zp",
        "colab_type": "code",
        "colab": {
          "base_uri": "https://localhost:8080/",
          "height": 374
        },
        "outputId": "b796fc27-ea76-4818-c935-7621f9dad2ac"
      },
      "source": [
        "y_pred=model.predict([X_test_ls])\n",
        "y_pred\n"
      ],
      "execution_count": 329,
      "outputs": [
        {
          "output_type": "execute_result",
          "data": {
            "text/plain": [
              "array([[0.37939727],\n",
              "       [0.3609863 ],\n",
              "       [0.351957  ],\n",
              "       [0.3526158 ],\n",
              "       [0.36328244],\n",
              "       [0.38330242],\n",
              "       [0.40350625],\n",
              "       [0.41446823],\n",
              "       [0.4146923 ],\n",
              "       [0.40722984],\n",
              "       [0.3949703 ],\n",
              "       [0.38072127],\n",
              "       [0.36694384],\n",
              "       [0.36101723],\n",
              "       [0.3711395 ],\n",
              "       [0.39427316],\n",
              "       [0.42446697],\n",
              "       [0.46049076],\n",
              "       [0.5051533 ],\n",
              "       [0.558236  ],\n",
              "       [0.61180663]], dtype=float32)"
            ]
          },
          "metadata": {
            "tags": []
          },
          "execution_count": 329
        }
      ]
    },
    {
      "cell_type": "code",
      "metadata": {
        "id": "9V-18sDa4wlA",
        "colab_type": "code",
        "colab": {
          "base_uri": "https://localhost:8080/",
          "height": 374
        },
        "outputId": "57f4522c-120f-42ab-985c-5472f7725a2d"
      },
      "source": [
        "stock_price=mm.inverse_transform(y_pred)\n",
        "stock_price"
      ],
      "execution_count": 331,
      "outputs": [
        {
          "output_type": "execute_result",
          "data": {
            "text/plain": [
              "array([[828.83356],\n",
              "       [826.406  ],\n",
              "       [825.2155 ],\n",
              "       [825.30237],\n",
              "       [826.70874],\n",
              "       [829.3484 ],\n",
              "       [832.0123 ],\n",
              "       [833.45764],\n",
              "       [833.4872 ],\n",
              "       [832.50323],\n",
              "       [830.88684],\n",
              "       [829.00806],\n",
              "       [827.1915 ],\n",
              "       [826.4101 ],\n",
              "       [827.74475],\n",
              "       [830.7949 ],\n",
              "       [834.776  ],\n",
              "       [839.5257 ],\n",
              "       [845.4144 ],\n",
              "       [852.41345],\n",
              "       [859.4767 ]], dtype=float32)"
            ]
          },
          "metadata": {
            "tags": []
          },
          "execution_count": 331
        }
      ]
    },
    {
      "cell_type": "code",
      "metadata": {
        "id": "Rwd4RrV05Ab4",
        "colab_type": "code",
        "colab": {
          "base_uri": "https://localhost:8080/",
          "height": 374
        },
        "outputId": "98162441-e417-4fc4-dee6-2de96df18f99"
      },
      "source": [
        "actual_stock_price=mm.inverse_transform(y_test_ls)\n",
        "actual_stock_price"
      ],
      "execution_count": 320,
      "outputs": [
        {
          "output_type": "execute_result",
          "data": {
            "text/plain": [
              "array([[833.5     ],\n",
              "       [828.969971],\n",
              "       [829.219971],\n",
              "       [831.359985],\n",
              "       [835.51001 ],\n",
              "       [832.400024],\n",
              "       [827.960022],\n",
              "       [825.390015],\n",
              "       [824.710022],\n",
              "       [821.929993],\n",
              "       [822.140015],\n",
              "       [825.01001 ],\n",
              "       [834.219971],\n",
              "       [839.789978],\n",
              "       [841.440002],\n",
              "       [842.880005],\n",
              "       [851.200012],\n",
              "       [865.      ],\n",
              "       [874.22998 ],\n",
              "       [873.599976],\n",
              "       [910.659973]])"
            ]
          },
          "metadata": {
            "tags": []
          },
          "execution_count": 320
        }
      ]
    },
    {
      "cell_type": "code",
      "metadata": {
        "id": "3VYiCK1mNjHB",
        "colab_type": "code",
        "colab": {
          "base_uri": "https://localhost:8080/",
          "height": 34
        },
        "outputId": "e15bd8c2-1321-4933-ee9b-2d55ca2e761d"
      },
      "source": [
        "actual_stock_price.shape"
      ],
      "execution_count": 332,
      "outputs": [
        {
          "output_type": "execute_result",
          "data": {
            "text/plain": [
              "(21, 1)"
            ]
          },
          "metadata": {
            "tags": []
          },
          "execution_count": 332
        }
      ]
    },
    {
      "cell_type": "code",
      "metadata": {
        "id": "x8c2nFeH5Scn",
        "colab_type": "code",
        "colab": {
          "base_uri": "https://localhost:8080/",
          "height": 282
        },
        "outputId": "7addaec6-c4ca-4c34-f628-d33b1243c1df"
      },
      "source": [
        "plt.plot(stock_price)\n",
        "plt.plot(actual_stock_price)"
      ],
      "execution_count": 333,
      "outputs": [
        {
          "output_type": "execute_result",
          "data": {
            "text/plain": [
              "[<matplotlib.lines.Line2D at 0x7f437b050ef0>]"
            ]
          },
          "metadata": {
            "tags": []
          },
          "execution_count": 333
        },
        {
          "output_type": "display_data",
          "data": {
            "image/png": "[encoded data removed]",
            "text/plain": [
              "<Figure size 432x288 with 1 Axes>"
            ]
          },
          "metadata": {
            "tags": []
          }
        }
      ]
    },
    {
      "cell_type": "code",
      "metadata": {
        "id": "ksqETfkoRW6Z",
        "colab_type": "code",
        "colab": {}
      },
      "source": [
        ""
      ],
      "execution_count": 0,
      "outputs": []
    },
    {
      "cell_type": "markdown",
      "metadata": {
        "id": "EMpwD0i2RXoL",
        "colab_type": "text"
      },
      "source": [
        "Model is saved in a pickle file to be used in future."
      ]
    },
    {
      "cell_type": "code",
      "metadata": {
        "id": "uPbyvJUIPxAb",
        "colab_type": "code",
        "colab": {}
      },
      "source": [
        "import pickle\n",
        "pickle.dump(model,open(\"googlestock.pkl\",\"wb\"))"
      ],
      "execution_count": 0,
      "outputs": []
    },
    {
      "cell_type": "code",
      "metadata": {
        "id": "IUaz8a5EEBq6",
        "colab_type": "code",
        "colab": {}
      },
      "source": [
        "predicted_price=[]\n",
        "actual_price=[]\n",
        "for i in range(len(actual_stock_price)):\n",
        "  predicted_price.append(stock_price[i])\n",
        "  actual_price.append(actual_stock_price[i])\n",
        "#Google_prices[\"stock_price\"]=stock_price"
      ],
      "execution_count": 0,
      "outputs": []
    },
    {
      "cell_type": "code",
      "metadata": {
        "id": "TBrCgro7Fp2R",
        "colab_type": "code",
        "colab": {
          "base_uri": "https://localhost:8080/",
          "height": 374
        },
        "outputId": "2a48ee72-33f4-49ac-d6da-30b47c933366"
      },
      "source": [
        "predicted_price"
      ],
      "execution_count": 335,
      "outputs": [
        {
          "output_type": "execute_result",
          "data": {
            "text/plain": [
              "[array([828.83356], dtype=float32),\n",
              " array([826.406], dtype=float32),\n",
              " array([825.2155], dtype=float32),\n",
              " array([825.30237], dtype=float32),\n",
              " array([826.70874], dtype=float32),\n",
              " array([829.3484], dtype=float32),\n",
              " array([832.0123], dtype=float32),\n",
              " array([833.45764], dtype=float32),\n",
              " array([833.4872], dtype=float32),\n",
              " array([832.50323], dtype=float32),\n",
              " array([830.88684], dtype=float32),\n",
              " array([829.00806], dtype=float32),\n",
              " array([827.1915], dtype=float32),\n",
              " array([826.4101], dtype=float32),\n",
              " array([827.74475], dtype=float32),\n",
              " array([830.7949], dtype=float32),\n",
              " array([834.776], dtype=float32),\n",
              " array([839.5257], dtype=float32),\n",
              " array([845.4144], dtype=float32),\n",
              " array([852.41345], dtype=float32),\n",
              " array([859.4767], dtype=float32)]"
            ]
          },
          "metadata": {
            "tags": []
          },
          "execution_count": 335
        }
      ]
    },
    {
      "cell_type": "code",
      "metadata": {
        "id": "FN3wsPk2Dbdx",
        "colab_type": "code",
        "colab": {}
      },
      "source": [
        "Google_prices=pd.DataFrame()\n",
        "Google_prices[\"actual_price\"]=actual_price\n",
        "Google_prices[\"predicted_price\"]=predicted_price"
      ],
      "execution_count": 0,
      "outputs": []
    },
    {
      "cell_type": "code",
      "metadata": {
        "id": "CUi2QHncF6mU",
        "colab_type": "code",
        "colab": {
          "base_uri": "https://localhost:8080/",
          "height": 700
        },
        "outputId": "e8d621c4-ae95-4501-b6ef-06665e907b1e"
      },
      "source": [
        "Google_prices.head(30)"
      ],
      "execution_count": 339,
      "outputs": [
        {
          "output_type": "execute_result",
          "data": {
            "text/html": [
              "<div>\n",
              "<style scoped>\n",
              "    .dataframe tbody tr th:only-of-type {\n",
              "        vertical-align: middle;\n",
              "    }\n",
              "\n",
              "    .dataframe tbody tr th {\n",
              "        vertical-align: top;\n",
              "    }\n",
              "\n",
              "    .dataframe thead th {\n",
              "        text-align: right;\n",
              "    }\n",
              "</style>\n",
              "<table border=\"1\" class=\"dataframe\">\n",
              "  <thead>\n",
              "    <tr style=\"text-align: right;\">\n",
              "      <th></th>\n",
              "      <th>actual_price</th>\n",
              "      <th>predicted_price</th>\n",
              "    </tr>\n",
              "  </thead>\n",
              "  <tbody>\n",
              "    <tr>\n",
              "      <th>0</th>\n",
              "      <td>[833.5]</td>\n",
              "      <td>[828.83356]</td>\n",
              "    </tr>\n",
              "    <tr>\n",
              "      <th>1</th>\n",
              "      <td>[828.969971]</td>\n",
              "      <td>[826.406]</td>\n",
              "    </tr>\n",
              "    <tr>\n",
              "      <th>2</th>\n",
              "      <td>[829.219971]</td>\n",
              "      <td>[825.2155]</td>\n",
              "    </tr>\n",
              "    <tr>\n",
              "      <th>3</th>\n",
              "      <td>[831.3599849999999]</td>\n",
              "      <td>[825.30237]</td>\n",
              "    </tr>\n",
              "    <tr>\n",
              "      <th>4</th>\n",
              "      <td>[835.51001]</td>\n",
              "      <td>[826.70874]</td>\n",
              "    </tr>\n",
              "    <tr>\n",
              "      <th>5</th>\n",
              "      <td>[832.400024]</td>\n",
              "      <td>[829.3484]</td>\n",
              "    </tr>\n",
              "    <tr>\n",
              "      <th>6</th>\n",
              "      <td>[827.960022]</td>\n",
              "      <td>[832.0123]</td>\n",
              "    </tr>\n",
              "    <tr>\n",
              "      <th>7</th>\n",
              "      <td>[825.3900150000001]</td>\n",
              "      <td>[833.45764]</td>\n",
              "    </tr>\n",
              "    <tr>\n",
              "      <th>8</th>\n",
              "      <td>[824.710022]</td>\n",
              "      <td>[833.4872]</td>\n",
              "    </tr>\n",
              "    <tr>\n",
              "      <th>9</th>\n",
              "      <td>[821.929993]</td>\n",
              "      <td>[832.50323]</td>\n",
              "    </tr>\n",
              "    <tr>\n",
              "      <th>10</th>\n",
              "      <td>[822.1400150000001]</td>\n",
              "      <td>[830.88684]</td>\n",
              "    </tr>\n",
              "    <tr>\n",
              "      <th>11</th>\n",
              "      <td>[825.01001]</td>\n",
              "      <td>[829.00806]</td>\n",
              "    </tr>\n",
              "    <tr>\n",
              "      <th>12</th>\n",
              "      <td>[834.219971]</td>\n",
              "      <td>[827.1915]</td>\n",
              "    </tr>\n",
              "    <tr>\n",
              "      <th>13</th>\n",
              "      <td>[839.7899779999999]</td>\n",
              "      <td>[826.4101]</td>\n",
              "    </tr>\n",
              "    <tr>\n",
              "      <th>14</th>\n",
              "      <td>[841.4400019999999]</td>\n",
              "      <td>[827.74475]</td>\n",
              "    </tr>\n",
              "    <tr>\n",
              "      <th>15</th>\n",
              "      <td>[842.8800050000001]</td>\n",
              "      <td>[830.7949]</td>\n",
              "    </tr>\n",
              "    <tr>\n",
              "      <th>16</th>\n",
              "      <td>[851.2000119999999]</td>\n",
              "      <td>[834.776]</td>\n",
              "    </tr>\n",
              "    <tr>\n",
              "      <th>17</th>\n",
              "      <td>[865.0]</td>\n",
              "      <td>[839.5257]</td>\n",
              "    </tr>\n",
              "    <tr>\n",
              "      <th>18</th>\n",
              "      <td>[874.2299800000001]</td>\n",
              "      <td>[845.4144]</td>\n",
              "    </tr>\n",
              "    <tr>\n",
              "      <th>19</th>\n",
              "      <td>[873.599976]</td>\n",
              "      <td>[852.41345]</td>\n",
              "    </tr>\n",
              "    <tr>\n",
              "      <th>20</th>\n",
              "      <td>[910.659973]</td>\n",
              "      <td>[859.4767]</td>\n",
              "    </tr>\n",
              "  </tbody>\n",
              "</table>\n",
              "</div>"
            ],
            "text/plain": [
              "           actual_price predicted_price\n",
              "0               [833.5]     [828.83356]\n",
              "1          [828.969971]       [826.406]\n",
              "2          [829.219971]      [825.2155]\n",
              "3   [831.3599849999999]     [825.30237]\n",
              "4           [835.51001]     [826.70874]\n",
              "5          [832.400024]      [829.3484]\n",
              "6          [827.960022]      [832.0123]\n",
              "7   [825.3900150000001]     [833.45764]\n",
              "8          [824.710022]      [833.4872]\n",
              "9          [821.929993]     [832.50323]\n",
              "10  [822.1400150000001]     [830.88684]\n",
              "11          [825.01001]     [829.00806]\n",
              "12         [834.219971]      [827.1915]\n",
              "13  [839.7899779999999]      [826.4101]\n",
              "14  [841.4400019999999]     [827.74475]\n",
              "15  [842.8800050000001]      [830.7949]\n",
              "16  [851.2000119999999]       [834.776]\n",
              "17              [865.0]      [839.5257]\n",
              "18  [874.2299800000001]      [845.4144]\n",
              "19         [873.599976]     [852.41345]\n",
              "20         [910.659973]      [859.4767]"
            ]
          },
          "metadata": {
            "tags": []
          },
          "execution_count": 339
        }
      ]
    }
  ]
}