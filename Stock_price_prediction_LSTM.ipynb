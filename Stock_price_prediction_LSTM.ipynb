{
  "nbformat": 4,
  "nbformat_minor": 0,
  "metadata": {
    "kernelspec": {
      "name": "python3",
      "display_name": "Python 3"
    },
    "language_info": {
      "codemirror_mode": {
        "name": "ipython",
        "version": 3
      },
      "file_extension": ".py",
      "mimetype": "text/x-python",
      "name": "python",
      "nbconvert_exporter": "python",
      "pygments_lexer": "ipython3",
      "version": "3.7.3"
    },
    "colab": {
      "name": "Stock price prediction-LSTM.ipynb",
      "provenance": [],
      "include_colab_link": true
    },
    "accelerator": "GPU"
  },
  "cells": [
    {
      "cell_type": "markdown",
      "metadata": {
        "id": "view-in-github",
        "colab_type": "text"
      },
      "source": [
        "<a href=\"https://colab.research.google.com/github/shailendrarg/Deep-learning/blob/master/Stock_price_prediction_LSTM.ipynb\" target=\"_parent\"><img src=\"https://colab.research.google.com/assets/colab-badge.svg\" alt=\"Open In Colab\"/></a>"
      ]
    },
    {
      "cell_type": "markdown",
      "metadata": {
        "id": "t8vvwkpYYswA",
        "colab_type": "text"
      },
      "source": [
        "LSTM model for stock price prediction"
      ]
    },
    {
      "cell_type": "markdown",
      "metadata": {
        "id": "KUrAV_poaz30",
        "colab_type": "text"
      },
      "source": [
        "Stock prices prediction of Newyork stocks market from 2010 to 2016 and the Goal is to predict the High price of a perticular stock."
      ]
    },
    {
      "cell_type": "code",
      "metadata": {
        "trusted": true,
        "id": "3AKptFIlYswD",
        "colab_type": "code",
        "colab": {}
      },
      "source": [
        "import pandas as pd\n",
        "import numpy as np\n",
        "import matplotlib.pyplot as plt\n",
        "%matplotlib inline"
      ],
      "execution_count": 0,
      "outputs": []
    },
    {
      "cell_type": "code",
      "metadata": {
        "id": "VVHEuC5kbV63",
        "colab_type": "code",
        "outputId": "0491078d-8a00-40f1-d117-af7edf04a03b",
        "colab": {
          "base_uri": "https://localhost:8080/",
          "height": 54
        }
      },
      "source": [
        "from google.colab import drive\n",
        "drive.mount('/content/drive')"
      ],
      "execution_count": 45,
      "outputs": [
        {
          "output_type": "stream",
          "text": [
            "Drive already mounted at /content/drive; to attempt to forcibly remount, call drive.mount(\"/content/drive\", force_remount=True).\n"
          ],
          "name": "stdout"
        }
      ]
    },
    {
      "cell_type": "code",
      "metadata": {
        "scrolled": true,
        "trusted": true,
        "id": "Ryp5uFUYYswH",
        "colab_type": "code",
        "outputId": "3afe5803-253f-4449-d527-d2d9d3e7d716",
        "colab": {
          "base_uri": "https://localhost:8080/",
          "height": 204
        }
      },
      "source": [
        "#prices=pd.read_csv(\"../input/prices.csv\")\n",
        "prices=pd.read_csv(\"/content/drive/My Drive/Machine Learning/Stock prices/prices.csv\")\n",
        "prices.head()"
      ],
      "execution_count": 46,
      "outputs": [
        {
          "output_type": "execute_result",
          "data": {
            "text/html": [
              "<div>\n",
              "<style scoped>\n",
              "    .dataframe tbody tr th:only-of-type {\n",
              "        vertical-align: middle;\n",
              "    }\n",
              "\n",
              "    .dataframe tbody tr th {\n",
              "        vertical-align: top;\n",
              "    }\n",
              "\n",
              "    .dataframe thead th {\n",
              "        text-align: right;\n",
              "    }\n",
              "</style>\n",
              "<table border=\"1\" class=\"dataframe\">\n",
              "  <thead>\n",
              "    <tr style=\"text-align: right;\">\n",
              "      <th></th>\n",
              "      <th>date</th>\n",
              "      <th>symbol</th>\n",
              "      <th>open</th>\n",
              "      <th>close</th>\n",
              "      <th>low</th>\n",
              "      <th>high</th>\n",
              "      <th>volume</th>\n",
              "    </tr>\n",
              "  </thead>\n",
              "  <tbody>\n",
              "    <tr>\n",
              "      <th>0</th>\n",
              "      <td>2016-01-05 00:00:00</td>\n",
              "      <td>WLTW</td>\n",
              "      <td>123.430000</td>\n",
              "      <td>125.839996</td>\n",
              "      <td>122.309998</td>\n",
              "      <td>126.250000</td>\n",
              "      <td>2163600.0</td>\n",
              "    </tr>\n",
              "    <tr>\n",
              "      <th>1</th>\n",
              "      <td>2016-01-06 00:00:00</td>\n",
              "      <td>WLTW</td>\n",
              "      <td>125.239998</td>\n",
              "      <td>119.980003</td>\n",
              "      <td>119.940002</td>\n",
              "      <td>125.540001</td>\n",
              "      <td>2386400.0</td>\n",
              "    </tr>\n",
              "    <tr>\n",
              "      <th>2</th>\n",
              "      <td>2016-01-07 00:00:00</td>\n",
              "      <td>WLTW</td>\n",
              "      <td>116.379997</td>\n",
              "      <td>114.949997</td>\n",
              "      <td>114.930000</td>\n",
              "      <td>119.739998</td>\n",
              "      <td>2489500.0</td>\n",
              "    </tr>\n",
              "    <tr>\n",
              "      <th>3</th>\n",
              "      <td>2016-01-08 00:00:00</td>\n",
              "      <td>WLTW</td>\n",
              "      <td>115.480003</td>\n",
              "      <td>116.620003</td>\n",
              "      <td>113.500000</td>\n",
              "      <td>117.440002</td>\n",
              "      <td>2006300.0</td>\n",
              "    </tr>\n",
              "    <tr>\n",
              "      <th>4</th>\n",
              "      <td>2016-01-11 00:00:00</td>\n",
              "      <td>WLTW</td>\n",
              "      <td>117.010002</td>\n",
              "      <td>114.970001</td>\n",
              "      <td>114.089996</td>\n",
              "      <td>117.330002</td>\n",
              "      <td>1408600.0</td>\n",
              "    </tr>\n",
              "  </tbody>\n",
              "</table>\n",
              "</div>"
            ],
            "text/plain": [
              "                  date symbol        open  ...         low        high     volume\n",
              "0  2016-01-05 00:00:00   WLTW  123.430000  ...  122.309998  126.250000  2163600.0\n",
              "1  2016-01-06 00:00:00   WLTW  125.239998  ...  119.940002  125.540001  2386400.0\n",
              "2  2016-01-07 00:00:00   WLTW  116.379997  ...  114.930000  119.739998  2489500.0\n",
              "3  2016-01-08 00:00:00   WLTW  115.480003  ...  113.500000  117.440002  2006300.0\n",
              "4  2016-01-11 00:00:00   WLTW  117.010002  ...  114.089996  117.330002  1408600.0\n",
              "\n",
              "[5 rows x 7 columns]"
            ]
          },
          "metadata": {
            "tags": []
          },
          "execution_count": 46
        }
      ]
    },
    {
      "cell_type": "code",
      "metadata": {
        "trusted": true,
        "id": "EhTvhmirYswM",
        "colab_type": "code",
        "outputId": "e498bf1e-8ca6-45a4-cba2-7f59f3c7ed4f",
        "colab": {
          "base_uri": "https://localhost:8080/",
          "height": 34
        }
      },
      "source": [
        "prices.shape"
      ],
      "execution_count": 47,
      "outputs": [
        {
          "output_type": "execute_result",
          "data": {
            "text/plain": [
              "(851264, 7)"
            ]
          },
          "metadata": {
            "tags": []
          },
          "execution_count": 47
        }
      ]
    },
    {
      "cell_type": "code",
      "metadata": {
        "scrolled": true,
        "trusted": true,
        "id": "x8FgC4hDYswP",
        "colab_type": "code",
        "outputId": "0f0ed012-5203-4d03-9598-ba1ee5567904",
        "colab": {
          "base_uri": "https://localhost:8080/",
          "height": 204
        }
      },
      "source": [
        "prices.head()"
      ],
      "execution_count": 48,
      "outputs": [
        {
          "output_type": "execute_result",
          "data": {
            "text/html": [
              "<div>\n",
              "<style scoped>\n",
              "    .dataframe tbody tr th:only-of-type {\n",
              "        vertical-align: middle;\n",
              "    }\n",
              "\n",
              "    .dataframe tbody tr th {\n",
              "        vertical-align: top;\n",
              "    }\n",
              "\n",
              "    .dataframe thead th {\n",
              "        text-align: right;\n",
              "    }\n",
              "</style>\n",
              "<table border=\"1\" class=\"dataframe\">\n",
              "  <thead>\n",
              "    <tr style=\"text-align: right;\">\n",
              "      <th></th>\n",
              "      <th>date</th>\n",
              "      <th>symbol</th>\n",
              "      <th>open</th>\n",
              "      <th>close</th>\n",
              "      <th>low</th>\n",
              "      <th>high</th>\n",
              "      <th>volume</th>\n",
              "    </tr>\n",
              "  </thead>\n",
              "  <tbody>\n",
              "    <tr>\n",
              "      <th>0</th>\n",
              "      <td>2016-01-05 00:00:00</td>\n",
              "      <td>WLTW</td>\n",
              "      <td>123.430000</td>\n",
              "      <td>125.839996</td>\n",
              "      <td>122.309998</td>\n",
              "      <td>126.250000</td>\n",
              "      <td>2163600.0</td>\n",
              "    </tr>\n",
              "    <tr>\n",
              "      <th>1</th>\n",
              "      <td>2016-01-06 00:00:00</td>\n",
              "      <td>WLTW</td>\n",
              "      <td>125.239998</td>\n",
              "      <td>119.980003</td>\n",
              "      <td>119.940002</td>\n",
              "      <td>125.540001</td>\n",
              "      <td>2386400.0</td>\n",
              "    </tr>\n",
              "    <tr>\n",
              "      <th>2</th>\n",
              "      <td>2016-01-07 00:00:00</td>\n",
              "      <td>WLTW</td>\n",
              "      <td>116.379997</td>\n",
              "      <td>114.949997</td>\n",
              "      <td>114.930000</td>\n",
              "      <td>119.739998</td>\n",
              "      <td>2489500.0</td>\n",
              "    </tr>\n",
              "    <tr>\n",
              "      <th>3</th>\n",
              "      <td>2016-01-08 00:00:00</td>\n",
              "      <td>WLTW</td>\n",
              "      <td>115.480003</td>\n",
              "      <td>116.620003</td>\n",
              "      <td>113.500000</td>\n",
              "      <td>117.440002</td>\n",
              "      <td>2006300.0</td>\n",
              "    </tr>\n",
              "    <tr>\n",
              "      <th>4</th>\n",
              "      <td>2016-01-11 00:00:00</td>\n",
              "      <td>WLTW</td>\n",
              "      <td>117.010002</td>\n",
              "      <td>114.970001</td>\n",
              "      <td>114.089996</td>\n",
              "      <td>117.330002</td>\n",
              "      <td>1408600.0</td>\n",
              "    </tr>\n",
              "  </tbody>\n",
              "</table>\n",
              "</div>"
            ],
            "text/plain": [
              "                  date symbol        open  ...         low        high     volume\n",
              "0  2016-01-05 00:00:00   WLTW  123.430000  ...  122.309998  126.250000  2163600.0\n",
              "1  2016-01-06 00:00:00   WLTW  125.239998  ...  119.940002  125.540001  2386400.0\n",
              "2  2016-01-07 00:00:00   WLTW  116.379997  ...  114.930000  119.739998  2489500.0\n",
              "3  2016-01-08 00:00:00   WLTW  115.480003  ...  113.500000  117.440002  2006300.0\n",
              "4  2016-01-11 00:00:00   WLTW  117.010002  ...  114.089996  117.330002  1408600.0\n",
              "\n",
              "[5 rows x 7 columns]"
            ]
          },
          "metadata": {
            "tags": []
          },
          "execution_count": 48
        }
      ]
    },
    {
      "cell_type": "code",
      "metadata": {
        "trusted": true,
        "id": "-wv7bpBXYswS",
        "colab_type": "code",
        "colab": {}
      },
      "source": [
        "companies=prices.groupby(\"symbol\")"
      ],
      "execution_count": 0,
      "outputs": []
    },
    {
      "cell_type": "code",
      "metadata": {
        "trusted": true,
        "id": "nSvJ3dlnYswV",
        "colab_type": "code",
        "outputId": "49cb9b3b-4986-4f27-a072-6f4990e64a61",
        "colab": {
          "base_uri": "https://localhost:8080/",
          "height": 238
        }
      },
      "source": [
        "companies[\"symbol\"].value_counts()"
      ],
      "execution_count": 50,
      "outputs": [
        {
          "output_type": "execute_result",
          "data": {
            "text/plain": [
              "symbol  symbol\n",
              "A       A         1762\n",
              "AAL     AAL       1762\n",
              "AAP     AAP       1762\n",
              "AAPL    AAPL      1762\n",
              "ABBV    ABBV      1008\n",
              "                  ... \n",
              "YHOO    YHOO      1762\n",
              "YUM     YUM       1762\n",
              "ZBH     ZBH       1762\n",
              "ZION    ZION      1762\n",
              "ZTS     ZTS        987\n",
              "Name: symbol, Length: 501, dtype: int64"
            ]
          },
          "metadata": {
            "tags": []
          },
          "execution_count": 50
        }
      ]
    },
    {
      "cell_type": "code",
      "metadata": {
        "trusted": true,
        "id": "JhhtlnKCYswX",
        "colab_type": "code",
        "colab": {}
      },
      "source": [
        "VZ_df=companies.get_group(\"VZ\")\n",
        "wyn_df=companies.get_group(\"WYN\")"
      ],
      "execution_count": 0,
      "outputs": []
    },
    {
      "cell_type": "code",
      "metadata": {
        "trusted": true,
        "id": "28JN7HgWYswa",
        "colab_type": "code",
        "outputId": "a8b0775d-1aa1-46dc-cef7-e1346db4c1c0",
        "colab": {
          "base_uri": "https://localhost:8080/",
          "height": 204
        }
      },
      "source": [
        "VZ_df.head()"
      ],
      "execution_count": 52,
      "outputs": [
        {
          "output_type": "execute_result",
          "data": {
            "text/html": [
              "<div>\n",
              "<style scoped>\n",
              "    .dataframe tbody tr th:only-of-type {\n",
              "        vertical-align: middle;\n",
              "    }\n",
              "\n",
              "    .dataframe tbody tr th {\n",
              "        vertical-align: top;\n",
              "    }\n",
              "\n",
              "    .dataframe thead th {\n",
              "        text-align: right;\n",
              "    }\n",
              "</style>\n",
              "<table border=\"1\" class=\"dataframe\">\n",
              "  <thead>\n",
              "    <tr style=\"text-align: right;\">\n",
              "      <th></th>\n",
              "      <th>date</th>\n",
              "      <th>symbol</th>\n",
              "      <th>open</th>\n",
              "      <th>close</th>\n",
              "      <th>low</th>\n",
              "      <th>high</th>\n",
              "      <th>volume</th>\n",
              "    </tr>\n",
              "  </thead>\n",
              "  <tbody>\n",
              "    <tr>\n",
              "      <th>691</th>\n",
              "      <td>2010-01-04</td>\n",
              "      <td>VZ</td>\n",
              "      <td>33.399868</td>\n",
              "      <td>33.279869</td>\n",
              "      <td>33.089868</td>\n",
              "      <td>33.449868</td>\n",
              "      <td>16176600.0</td>\n",
              "    </tr>\n",
              "    <tr>\n",
              "      <th>1159</th>\n",
              "      <td>2010-01-05</td>\n",
              "      <td>VZ</td>\n",
              "      <td>33.369868</td>\n",
              "      <td>33.339868</td>\n",
              "      <td>32.779871</td>\n",
              "      <td>33.399868</td>\n",
              "      <td>23722900.0</td>\n",
              "    </tr>\n",
              "    <tr>\n",
              "      <th>1627</th>\n",
              "      <td>2010-01-06</td>\n",
              "      <td>VZ</td>\n",
              "      <td>32.639872</td>\n",
              "      <td>31.919873</td>\n",
              "      <td>31.799875</td>\n",
              "      <td>32.739871</td>\n",
              "      <td>37506400.0</td>\n",
              "    </tr>\n",
              "    <tr>\n",
              "      <th>2095</th>\n",
              "      <td>2010-01-07</td>\n",
              "      <td>VZ</td>\n",
              "      <td>32.099874</td>\n",
              "      <td>31.729875</td>\n",
              "      <td>31.529875</td>\n",
              "      <td>32.099874</td>\n",
              "      <td>25508200.0</td>\n",
              "    </tr>\n",
              "    <tr>\n",
              "      <th>2563</th>\n",
              "      <td>2010-01-08</td>\n",
              "      <td>VZ</td>\n",
              "      <td>31.659875</td>\n",
              "      <td>31.749874</td>\n",
              "      <td>31.419875</td>\n",
              "      <td>31.779874</td>\n",
              "      <td>20658300.0</td>\n",
              "    </tr>\n",
              "  </tbody>\n",
              "</table>\n",
              "</div>"
            ],
            "text/plain": [
              "            date symbol       open      close        low       high      volume\n",
              "691   2010-01-04     VZ  33.399868  33.279869  33.089868  33.449868  16176600.0\n",
              "1159  2010-01-05     VZ  33.369868  33.339868  32.779871  33.399868  23722900.0\n",
              "1627  2010-01-06     VZ  32.639872  31.919873  31.799875  32.739871  37506400.0\n",
              "2095  2010-01-07     VZ  32.099874  31.729875  31.529875  32.099874  25508200.0\n",
              "2563  2010-01-08     VZ  31.659875  31.749874  31.419875  31.779874  20658300.0"
            ]
          },
          "metadata": {
            "tags": []
          },
          "execution_count": 52
        }
      ]
    },
    {
      "cell_type": "code",
      "metadata": {
        "trusted": true,
        "id": "YmcfsneGYswd",
        "colab_type": "code",
        "outputId": "163b77d4-6255-420a-e60f-afddb788774a",
        "colab": {
          "base_uri": "https://localhost:8080/",
          "height": 34
        }
      },
      "source": [
        "VZ_df.high.skew()"
      ],
      "execution_count": 53,
      "outputs": [
        {
          "output_type": "execute_result",
          "data": {
            "text/plain": [
              "-0.6227541269486909"
            ]
          },
          "metadata": {
            "tags": []
          },
          "execution_count": 53
        }
      ]
    },
    {
      "cell_type": "code",
      "metadata": {
        "trusted": true,
        "id": "wjhRBk48Yswg",
        "colab_type": "code",
        "outputId": "995165c2-618c-49fb-95a8-fdf602800459",
        "colab": {
          "base_uri": "https://localhost:8080/",
          "height": 282
        }
      },
      "source": [
        "VZ_df[\"high\"].hist()"
      ],
      "execution_count": 54,
      "outputs": [
        {
          "output_type": "execute_result",
          "data": {
            "text/plain": [
              "<matplotlib.axes._subplots.AxesSubplot at 0x7fbfbd8d1978>"
            ]
          },
          "metadata": {
            "tags": []
          },
          "execution_count": 54
        },
        {
          "output_type": "display_data",
          "data": {
            "image/png": "[encoded data removed]",
            "text/plain": [
              "<Figure size 432x288 with 1 Axes>"
            ]
          },
          "metadata": {
            "tags": []
          }
        }
      ]
    },
    {
      "cell_type": "code",
      "metadata": {
        "trusted": true,
        "id": "Wevg2wuQYswi",
        "colab_type": "code",
        "colab": {}
      },
      "source": [
        "training_data=VZ_df[\"high\"]\n",
        "#training_data=VZ_df[\"high\"].sample(1760)\n",
        "#testing_data=VZ_df[\"high\"].sample(2)"
      ],
      "execution_count": 0,
      "outputs": []
    },
    {
      "cell_type": "code",
      "metadata": {
        "trusted": true,
        "id": "lS0H77tXYswl",
        "colab_type": "code",
        "outputId": "86993789-a8d6-4ba2-87fc-f9f5f85551bf",
        "colab": {
          "base_uri": "https://localhost:8080/",
          "height": 34
        }
      },
      "source": [
        "training_data.shape"
      ],
      "execution_count": 56,
      "outputs": [
        {
          "output_type": "execute_result",
          "data": {
            "text/plain": [
              "(1762,)"
            ]
          },
          "metadata": {
            "tags": []
          },
          "execution_count": 56
        }
      ]
    },
    {
      "cell_type": "code",
      "metadata": {
        "trusted": true,
        "id": "KF9OCFlxYswo",
        "colab_type": "code",
        "outputId": "84bbe9be-13d8-44a8-cfce-5060394ebb37",
        "colab": {
          "base_uri": "https://localhost:8080/",
          "height": 34
        }
      },
      "source": [
        "training_data.values\n",
        "training_data=training_data.values.reshape(-1, 1)\n",
        "training_data.shape"
      ],
      "execution_count": 57,
      "outputs": [
        {
          "output_type": "execute_result",
          "data": {
            "text/plain": [
              "(1762, 1)"
            ]
          },
          "metadata": {
            "tags": []
          },
          "execution_count": 57
        }
      ]
    },
    {
      "cell_type": "code",
      "metadata": {
        "trusted": true,
        "id": "LgFI13FxYswq",
        "colab_type": "code",
        "colab": {}
      },
      "source": [
        "# testing_data=testing_data.values.reshape(-1,1)\n",
        "# testing_data.shape"
      ],
      "execution_count": 0,
      "outputs": []
    },
    {
      "cell_type": "code",
      "metadata": {
        "trusted": true,
        "id": "6m1q7vlDYswv",
        "colab_type": "code",
        "colab": {}
      },
      "source": [
        "# from sklearn.preprocessing import StandardScaler\n",
        "# mm=StandardScaler()\n",
        "# mm.fit_transform(testing_data)"
      ],
      "execution_count": 0,
      "outputs": []
    },
    {
      "cell_type": "code",
      "metadata": {
        "trusted": true,
        "id": "Ho0SsWwzYswy",
        "colab_type": "code",
        "outputId": "d3da64fb-5a8e-4025-d697-32e825dab41f",
        "colab": {
          "base_uri": "https://localhost:8080/",
          "height": 136
        }
      },
      "source": [
        "#the sequenced data needs to be SCALED\n",
        "from sklearn.preprocessing import StandardScaler\n",
        "mm=StandardScaler()\n",
        "mm.fit_transform(training_data)\n"
      ],
      "execution_count": 60,
      "outputs": [
        {
          "output_type": "execute_result",
          "data": {
            "text/plain": [
              "array([[-1.40004525],\n",
              "       [-1.40677971],\n",
              "       [-1.49567423],\n",
              "       ...,\n",
              "       [ 1.34494037],\n",
              "       [ 1.35436862],\n",
              "       [ 1.319349  ]])"
            ]
          },
          "metadata": {
            "tags": []
          },
          "execution_count": 60
        }
      ]
    },
    {
      "cell_type": "code",
      "metadata": {
        "trusted": true,
        "id": "ZzbNEpZXYsw1",
        "colab_type": "code",
        "outputId": "c6dba43b-dcf7-4c33-e77b-ff0e1811d54c",
        "colab": {
          "base_uri": "https://localhost:8080/",
          "height": 34
        }
      },
      "source": [
        "len(training_data)"
      ],
      "execution_count": 61,
      "outputs": [
        {
          "output_type": "execute_result",
          "data": {
            "text/plain": [
              "1762"
            ]
          },
          "metadata": {
            "tags": []
          },
          "execution_count": 61
        }
      ]
    },
    {
      "cell_type": "code",
      "metadata": {
        "trusted": true,
        "id": "AhuaaFmAYsw3",
        "colab_type": "code",
        "colab": {}
      },
      "source": [
        "#cerating data in a sequence of interval of 30\n",
        "#X will be from 0 to 59 , y will be 60\n",
        "X=[]\n",
        "y=[]\n",
        "\n",
        "for i in range(60,len(training_data)):\n",
        "    X.append(training_data[i-60:i,0])\n",
        "    y.append(training_data[i,0])\n",
        "    \n",
        "#testing data\n",
        "\n",
        "# X_test=[]\n",
        "# y_test=[]\n",
        "\n",
        "# for i in range(60,len(testing_data)):\n",
        "#     X_test.append(testing_data[i-60:i,0])\n",
        "#     y_test.append(testing_data[i,0])"
      ],
      "execution_count": 0,
      "outputs": []
    },
    {
      "cell_type": "code",
      "metadata": {
        "trusted": true,
        "id": "djmbXt2IYsw6",
        "colab_type": "code",
        "outputId": "a9cc5592-db37-489e-f397-bcd428a2a34b",
        "colab": {
          "base_uri": "https://localhost:8080/",
          "height": 34
        }
      },
      "source": [
        "X[0].shape"
      ],
      "execution_count": 64,
      "outputs": [
        {
          "output_type": "execute_result",
          "data": {
            "text/plain": [
              "(60,)"
            ]
          },
          "metadata": {
            "tags": []
          },
          "execution_count": 64
        }
      ]
    },
    {
      "cell_type": "code",
      "metadata": {
        "trusted": true,
        "id": "bTbfK0X0Ysw9",
        "colab_type": "code",
        "colab": {}
      },
      "source": [
        "#convertingthe data in numpy arrays  for neural network\n",
        "X_data= np.array(X)\n",
        "y_data=np.array(y)\n",
        "#testing\n",
        "\n",
        "# X_test_data= np.array(X_test)\n",
        "# y_test_data=np.array(y_test)"
      ],
      "execution_count": 0,
      "outputs": []
    },
    {
      "cell_type": "code",
      "metadata": {
        "trusted": true,
        "id": "cyNKbp2xYsxB",
        "colab_type": "code",
        "colab": {}
      },
      "source": [
        "# X_test[0].shape"
      ],
      "execution_count": 0,
      "outputs": []
    },
    {
      "cell_type": "code",
      "metadata": {
        "scrolled": false,
        "trusted": true,
        "id": "v5RsjHI2YsxF",
        "colab_type": "code",
        "outputId": "77cb4d14-31ed-45e3-9444-8d7127547ea8",
        "colab": {
          "base_uri": "https://localhost:8080/",
          "height": 34
        }
      },
      "source": [
        "X_data.shape #features"
      ],
      "execution_count": 68,
      "outputs": [
        {
          "output_type": "execute_result",
          "data": {
            "text/plain": [
              "(1702, 60)"
            ]
          },
          "metadata": {
            "tags": []
          },
          "execution_count": 68
        }
      ]
    },
    {
      "cell_type": "code",
      "metadata": {
        "trusted": true,
        "id": "-n2k6SB9YsxJ",
        "colab_type": "code",
        "colab": {}
      },
      "source": [
        "# X_test_data.shape"
      ],
      "execution_count": 0,
      "outputs": []
    },
    {
      "cell_type": "code",
      "metadata": {
        "trusted": true,
        "id": "xPdE2XLZYsxL",
        "colab_type": "code",
        "outputId": "11723754-4399-419b-d74a-d86fc978778f",
        "colab": {
          "base_uri": "https://localhost:8080/",
          "height": 34
        }
      },
      "source": [
        "#reshape the feature for neral network\n",
        "X_train=X_data.reshape(X_data.shape[0],X_data.shape[1],1)\n",
        "X_train.shape"
      ],
      "execution_count": 70,
      "outputs": [
        {
          "output_type": "execute_result",
          "data": {
            "text/plain": [
              "(1702, 60, 1)"
            ]
          },
          "metadata": {
            "tags": []
          },
          "execution_count": 70
        }
      ]
    },
    {
      "cell_type": "code",
      "metadata": {
        "trusted": true,
        "id": "5gI3IpRqYsxO",
        "colab_type": "code",
        "colab": {}
      },
      "source": [
        "# X_lstest=X_test_data.reshape(X_test_data.shape[0],X_test_data.shape[1],1)\n",
        "# X_lstest.shape"
      ],
      "execution_count": 0,
      "outputs": []
    },
    {
      "cell_type": "code",
      "metadata": {
        "trusted": true,
        "id": "FlcIDg4NYsxR",
        "colab_type": "code",
        "outputId": "67df1832-a6ee-4b8d-8865-cb97e3381bbc",
        "colab": {
          "base_uri": "https://localhost:8080/",
          "height": 34
        }
      },
      "source": [
        "y_train=y_data\n",
        "y_train.shape"
      ],
      "execution_count": 72,
      "outputs": [
        {
          "output_type": "execute_result",
          "data": {
            "text/plain": [
              "(1702,)"
            ]
          },
          "metadata": {
            "tags": []
          },
          "execution_count": 72
        }
      ]
    },
    {
      "cell_type": "code",
      "metadata": {
        "trusted": true,
        "id": "whOabhuFYsxT",
        "colab_type": "code",
        "colab": {}
      },
      "source": [
        "# y_lstest=y_test_data\n",
        "# y_lstest.shape"
      ],
      "execution_count": 0,
      "outputs": []
    },
    {
      "cell_type": "code",
      "metadata": {
        "scrolled": false,
        "trusted": true,
        "id": "bT88iQAgYsxX",
        "colab_type": "code",
        "outputId": "83cc43d9-f5c6-4fc3-9dde-406fd16fef2d",
        "colab": {
          "base_uri": "https://localhost:8080/",
          "height": 459
        }
      },
      "source": [
        "#LSTM code\n",
        "from keras.models import Sequential\n",
        "from keras.layers import LSTM,Dense,Dropout\n",
        "from keras.optimizers import rmsprop,SGD\n",
        "from keras.losses import mean_squared_error\n",
        "from keras.callbacks import EarlyStopping\n",
        "mse=mean_squared_error\n",
        "#opt=rmsprop(lr=0.001)#small learning rate \n",
        "#opt=Adagrad(lr=0.001,momentum= 0.3)#small learning rate \n",
        "model=Sequential()\n",
        "#input #input_shape=(batch_size,time_steps,features) so it will be  191,60,1\n",
        "model.add(LSTM(units=100,activation=\"relu\",input_shape =(X_train.shape[1],1),return_sequences=True))\n",
        "model.add(Dropout(0.2))\n",
        "#hidden\n",
        "model.add(LSTM(units=50,return_sequences=True))\n",
        "model.add(Dropout(0.2))\n",
        "\n",
        "model.add(LSTM(units=50,return_sequences=True))\n",
        "model.add(Dropout(0.2))\n",
        "\n",
        "model.add(LSTM(units=50,return_sequences=False))\n",
        "model.add(Dropout(0.2))\n",
        "\n",
        "model.add(Dense(1))\n",
        "model.compile(loss=\"mse\",optimizer=\"rmsprop\")\n",
        "model.summary()\n"
      ],
      "execution_count": 80,
      "outputs": [
        {
          "output_type": "stream",
          "text": [
            "Model: \"sequential_3\"\n",
            "_________________________________________________________________\n",
            "Layer (type)                 Output Shape              Param #   \n",
            "=================================================================\n",
            "lstm_9 (LSTM)                (None, 60, 100)           40800     \n",
            "_________________________________________________________________\n",
            "dropout_9 (Dropout)          (None, 60, 100)           0         \n",
            "_________________________________________________________________\n",
            "lstm_10 (LSTM)               (None, 60, 50)            30200     \n",
            "_________________________________________________________________\n",
            "dropout_10 (Dropout)         (None, 60, 50)            0         \n",
            "_________________________________________________________________\n",
            "lstm_11 (LSTM)               (None, 60, 50)            20200     \n",
            "_________________________________________________________________\n",
            "dropout_11 (Dropout)         (None, 60, 50)            0         \n",
            "_________________________________________________________________\n",
            "lstm_12 (LSTM)               (None, 50)                20200     \n",
            "_________________________________________________________________\n",
            "dropout_12 (Dropout)         (None, 50)                0         \n",
            "_________________________________________________________________\n",
            "dense_3 (Dense)              (None, 1)                 51        \n",
            "=================================================================\n",
            "Total params: 111,451\n",
            "Trainable params: 111,451\n",
            "Non-trainable params: 0\n",
            "_________________________________________________________________\n"
          ],
          "name": "stdout"
        }
      ]
    },
    {
      "cell_type": "code",
      "metadata": {
        "trusted": true,
        "id": "Io6lpgS9YsxZ",
        "colab_type": "code",
        "colab": {}
      },
      "source": [
        "#uxsing callbacks as earlystopping to stop the training process if model is not learning \n",
        "es = EarlyStopping(monitor='val_loss')"
      ],
      "execution_count": 0,
      "outputs": []
    },
    {
      "cell_type": "code",
      "metadata": {
        "trusted": true,
        "id": "H8GbFrmqYsxc",
        "colab_type": "code",
        "outputId": "bfb98c69-e391-4082-fbcc-78c58147d294",
        "colab": {
          "base_uri": "https://localhost:8080/",
          "height": 1000
        }
      },
      "source": [
        "history=model.fit(X_train,y_train,epochs=100,batch_size=60,validation_split=0.33)\n",
        "#history=model.fit(X_train,y_train,epochs=100,batch_size=60,validation_split=0.33,callbacks=[es])"
      ],
      "execution_count": 81,
      "outputs": [
        {
          "output_type": "stream",
          "text": [
            "Train on 1140 samples, validate on 562 samples\n",
            "Epoch 1/100\n",
            "1140/1140 [==============================] - 14s 12ms/step - loss: 1357.9808 - val_loss: 1569.6043\n",
            "Epoch 2/100\n",
            "1140/1140 [==============================] - 10s 9ms/step - loss: 1002.1707 - val_loss: 1449.7246\n",
            "Epoch 3/100\n",
            "1140/1140 [==============================] - 10s 9ms/step - loss: 932.9111 - val_loss: 1377.4362\n",
            "Epoch 4/100\n",
            "1140/1140 [==============================] - 10s 9ms/step - loss: 877.9198 - val_loss: 1307.7272\n",
            "Epoch 5/100\n",
            "1140/1140 [==============================] - 10s 9ms/step - loss: 822.5424 - val_loss: 1240.1059\n",
            "Epoch 6/100\n",
            "1140/1140 [==============================] - 10s 9ms/step - loss: 768.3678 - val_loss: 1174.0093\n",
            "Epoch 7/100\n",
            "1140/1140 [==============================] - 10s 9ms/step - loss: 721.7923 - val_loss: 1110.2325\n",
            "Epoch 8/100\n",
            "1140/1140 [==============================] - 10s 9ms/step - loss: 675.1566 - val_loss: 1048.3107\n",
            "Epoch 9/100\n",
            "1140/1140 [==============================] - 10s 9ms/step - loss: 626.9150 - val_loss: 988.0252\n",
            "Epoch 10/100\n",
            "1140/1140 [==============================] - 10s 9ms/step - loss: 580.5739 - val_loss: 929.4181\n",
            "Epoch 11/100\n",
            "1140/1140 [==============================] - 10s 9ms/step - loss: 544.4620 - val_loss: 873.3849\n",
            "Epoch 12/100\n",
            "1140/1140 [==============================] - 10s 9ms/step - loss: 501.0741 - val_loss: 818.5432\n",
            "Epoch 13/100\n",
            "1140/1140 [==============================] - 10s 9ms/step - loss: 462.8591 - val_loss: 765.4347\n",
            "Epoch 14/100\n",
            "1140/1140 [==============================] - 10s 9ms/step - loss: 427.1125 - val_loss: 714.6012\n",
            "Epoch 15/100\n",
            "1140/1140 [==============================] - 10s 9ms/step - loss: 386.7201 - val_loss: 665.5564\n",
            "Epoch 16/100\n",
            "1140/1140 [==============================] - 10s 9ms/step - loss: 355.2217 - val_loss: 618.1786\n",
            "Epoch 17/100\n",
            "1140/1140 [==============================] - 10s 9ms/step - loss: 325.8211 - val_loss: 572.5045\n",
            "Epoch 18/100\n",
            "1140/1140 [==============================] - 10s 9ms/step - loss: 297.2952 - val_loss: 528.9688\n",
            "Epoch 19/100\n",
            "1140/1140 [==============================] - 10s 9ms/step - loss: 265.1689 - val_loss: 487.2649\n",
            "Epoch 20/100\n",
            "1140/1140 [==============================] - 10s 9ms/step - loss: 240.8505 - val_loss: 447.3879\n",
            "Epoch 21/100\n",
            "1140/1140 [==============================] - 10s 9ms/step - loss: 215.6042 - val_loss: 409.2340\n",
            "Epoch 22/100\n",
            "1140/1140 [==============================] - 10s 9ms/step - loss: 194.1353 - val_loss: 373.0637\n",
            "Epoch 23/100\n",
            "1140/1140 [==============================] - 10s 9ms/step - loss: 171.3241 - val_loss: 338.6581\n",
            "Epoch 24/100\n",
            "1140/1140 [==============================] - 10s 9ms/step - loss: 153.9915 - val_loss: 306.0759\n",
            "Epoch 25/100\n",
            "1140/1140 [==============================] - 10s 9ms/step - loss: 135.6331 - val_loss: 275.2380\n",
            "Epoch 26/100\n",
            "1140/1140 [==============================] - 10s 9ms/step - loss: 125.2407 - val_loss: 246.0761\n",
            "Epoch 27/100\n",
            "1140/1140 [==============================] - 10s 9ms/step - loss: 107.0445 - val_loss: 219.3381\n",
            "Epoch 28/100\n",
            "1140/1140 [==============================] - 10s 9ms/step - loss: 97.5869 - val_loss: 194.3608\n",
            "Epoch 29/100\n",
            "1140/1140 [==============================] - 10s 9ms/step - loss: 86.8506 - val_loss: 171.4249\n",
            "Epoch 30/100\n",
            "1140/1140 [==============================] - 10s 9ms/step - loss: 79.0484 - val_loss: 150.0868\n",
            "Epoch 31/100\n",
            "1140/1140 [==============================] - 11s 9ms/step - loss: 71.1878 - val_loss: 130.9893\n",
            "Epoch 32/100\n",
            "1140/1140 [==============================] - 10s 9ms/step - loss: 65.2431 - val_loss: 113.7455\n",
            "Epoch 33/100\n",
            "1140/1140 [==============================] - 10s 9ms/step - loss: 64.6281 - val_loss: 99.4525\n",
            "Epoch 34/100\n",
            "1140/1140 [==============================] - 10s 9ms/step - loss: 59.9740 - val_loss: 88.8278\n",
            "Epoch 35/100\n",
            "1140/1140 [==============================] - 10s 9ms/step - loss: 58.9494 - val_loss: 81.4047\n",
            "Epoch 36/100\n",
            "1140/1140 [==============================] - 10s 9ms/step - loss: 59.1779 - val_loss: 77.2436\n",
            "Epoch 37/100\n",
            "1140/1140 [==============================] - 10s 9ms/step - loss: 58.1727 - val_loss: 76.4023\n",
            "Epoch 38/100\n",
            "1140/1140 [==============================] - 10s 9ms/step - loss: 58.5459 - val_loss: 73.5024\n",
            "Epoch 39/100\n",
            "1140/1140 [==============================] - 10s 9ms/step - loss: 58.4267 - val_loss: 72.3004\n",
            "Epoch 40/100\n",
            "1140/1140 [==============================] - 10s 9ms/step - loss: 57.6524 - val_loss: 74.2225\n",
            "Epoch 41/100\n",
            "1140/1140 [==============================] - 10s 9ms/step - loss: 58.5872 - val_loss: 69.1950\n",
            "Epoch 42/100\n",
            "1140/1140 [==============================] - 10s 9ms/step - loss: 57.8941 - val_loss: 68.9031\n",
            "Epoch 43/100\n",
            "1140/1140 [==============================] - 10s 9ms/step - loss: 59.4099 - val_loss: 72.7709\n",
            "Epoch 44/100\n",
            "1140/1140 [==============================] - 10s 9ms/step - loss: 58.1533 - val_loss: 86.7276\n",
            "Epoch 45/100\n",
            "1140/1140 [==============================] - 10s 9ms/step - loss: 61.5632 - val_loss: 82.0233\n",
            "Epoch 46/100\n",
            "1140/1140 [==============================] - 10s 9ms/step - loss: 59.7354 - val_loss: 76.8699\n",
            "Epoch 47/100\n",
            "1140/1140 [==============================] - 10s 9ms/step - loss: 59.6730 - val_loss: 72.8002\n",
            "Epoch 48/100\n",
            "1140/1140 [==============================] - 10s 9ms/step - loss: 59.5425 - val_loss: 73.4713\n",
            "Epoch 49/100\n",
            "1140/1140 [==============================] - 10s 9ms/step - loss: 59.7082 - val_loss: 79.8431\n",
            "Epoch 50/100\n",
            "1140/1140 [==============================] - 10s 9ms/step - loss: 62.0965 - val_loss: 76.2506\n",
            "Epoch 51/100\n",
            "1140/1140 [==============================] - 10s 9ms/step - loss: 59.0964 - val_loss: 71.8050\n",
            "Epoch 52/100\n",
            "1140/1140 [==============================] - 10s 9ms/step - loss: 59.4407 - val_loss: 68.8238\n",
            "Epoch 53/100\n",
            "1140/1140 [==============================] - 10s 9ms/step - loss: 62.6501 - val_loss: 74.1868\n",
            "Epoch 54/100\n",
            "1140/1140 [==============================] - 10s 9ms/step - loss: 60.1961 - val_loss: 77.4356\n",
            "Epoch 55/100\n",
            "1140/1140 [==============================] - 10s 9ms/step - loss: 62.0452 - val_loss: 68.9289\n",
            "Epoch 56/100\n",
            "1140/1140 [==============================] - 10s 9ms/step - loss: 60.3796 - val_loss: 67.5877\n",
            "Epoch 57/100\n",
            "1140/1140 [==============================] - 10s 9ms/step - loss: 60.0384 - val_loss: 89.2237\n",
            "Epoch 58/100\n",
            "1140/1140 [==============================] - 10s 9ms/step - loss: 99.4829 - val_loss: 72.0687\n",
            "Epoch 59/100\n",
            "1140/1140 [==============================] - 10s 9ms/step - loss: 53.2059 - val_loss: 57.8881\n",
            "Epoch 60/100\n",
            "1140/1140 [==============================] - 10s 9ms/step - loss: 58.1409 - val_loss: 65.6467\n",
            "Epoch 61/100\n",
            "1140/1140 [==============================] - 10s 9ms/step - loss: 59.3777 - val_loss: 75.0950\n",
            "Epoch 62/100\n",
            "1140/1140 [==============================] - 10s 9ms/step - loss: 59.0036 - val_loss: 66.7419\n",
            "Epoch 63/100\n",
            "1140/1140 [==============================] - 10s 9ms/step - loss: 63.1961 - val_loss: 56.8211\n",
            "Epoch 64/100\n",
            "1140/1140 [==============================] - 10s 9ms/step - loss: 59.2184 - val_loss: 66.4867\n",
            "Epoch 65/100\n",
            "1140/1140 [==============================] - 10s 9ms/step - loss: 58.1038 - val_loss: 64.6839\n",
            "Epoch 66/100\n",
            "1140/1140 [==============================] - 10s 9ms/step - loss: 56.1394 - val_loss: 58.8532\n",
            "Epoch 67/100\n",
            "1140/1140 [==============================] - 10s 9ms/step - loss: 45.9525 - val_loss: 52.0290\n",
            "Epoch 68/100\n",
            "1140/1140 [==============================] - 10s 9ms/step - loss: 42.2108 - val_loss: 46.5188\n",
            "Epoch 69/100\n",
            "1140/1140 [==============================] - 10s 9ms/step - loss: 49.4670 - val_loss: 42.8817\n",
            "Epoch 70/100\n",
            "1140/1140 [==============================] - 10s 9ms/step - loss: 41.6779 - val_loss: 36.4325\n",
            "Epoch 71/100\n",
            "1140/1140 [==============================] - 10s 9ms/step - loss: 41.0451 - val_loss: 34.1893\n",
            "Epoch 72/100\n",
            "1140/1140 [==============================] - 10s 9ms/step - loss: 44.3268 - val_loss: 35.3058\n",
            "Epoch 73/100\n",
            "1140/1140 [==============================] - 10s 9ms/step - loss: 37.3671 - val_loss: 80.4899\n",
            "Epoch 74/100\n",
            "1140/1140 [==============================] - 10s 9ms/step - loss: 37.5342 - val_loss: 26.7807\n",
            "Epoch 75/100\n",
            "1140/1140 [==============================] - 10s 9ms/step - loss: 36.5626 - val_loss: 24.0424\n",
            "Epoch 76/100\n",
            "1140/1140 [==============================] - 10s 9ms/step - loss: 36.4775 - val_loss: 22.1872\n",
            "Epoch 77/100\n",
            "1140/1140 [==============================] - 10s 9ms/step - loss: 30.7088 - val_loss: 20.2423\n",
            "Epoch 78/100\n",
            "1140/1140 [==============================] - 10s 9ms/step - loss: 31.0149 - val_loss: 22.3180\n",
            "Epoch 79/100\n",
            "1140/1140 [==============================] - 10s 9ms/step - loss: 30.0368 - val_loss: 19.3391\n",
            "Epoch 80/100\n",
            "1140/1140 [==============================] - 10s 9ms/step - loss: 27.6177 - val_loss: 18.2165\n",
            "Epoch 81/100\n",
            "1140/1140 [==============================] - 10s 9ms/step - loss: 30.6663 - val_loss: 16.4809\n",
            "Epoch 82/100\n",
            "1140/1140 [==============================] - 10s 9ms/step - loss: 25.2610 - val_loss: 14.0375\n",
            "Epoch 83/100\n",
            "1140/1140 [==============================] - 10s 9ms/step - loss: 25.4565 - val_loss: 12.2477\n",
            "Epoch 84/100\n",
            "1140/1140 [==============================] - 10s 9ms/step - loss: 23.1143 - val_loss: 33.9085\n",
            "Epoch 85/100\n",
            "1140/1140 [==============================] - 10s 9ms/step - loss: 23.9278 - val_loss: 12.5351\n",
            "Epoch 86/100\n",
            "1140/1140 [==============================] - 10s 9ms/step - loss: 24.6062 - val_loss: 11.7373\n",
            "Epoch 87/100\n",
            "1140/1140 [==============================] - 10s 9ms/step - loss: 24.1113 - val_loss: 11.2643\n",
            "Epoch 88/100\n",
            "1140/1140 [==============================] - 10s 9ms/step - loss: 23.8108 - val_loss: 11.7718\n",
            "Epoch 89/100\n",
            "1140/1140 [==============================] - 10s 9ms/step - loss: 22.4213 - val_loss: 11.2141\n",
            "Epoch 90/100\n",
            "1140/1140 [==============================] - 10s 9ms/step - loss: 24.5222 - val_loss: 14.2136\n",
            "Epoch 91/100\n",
            "1140/1140 [==============================] - 10s 9ms/step - loss: 22.0531 - val_loss: 11.5319\n",
            "Epoch 92/100\n",
            "1140/1140 [==============================] - 11s 9ms/step - loss: 25.4982 - val_loss: 16.0723\n",
            "Epoch 93/100\n",
            "1140/1140 [==============================] - 10s 9ms/step - loss: 18.9230 - val_loss: 10.4028\n",
            "Epoch 94/100\n",
            "1140/1140 [==============================] - 10s 9ms/step - loss: 19.5080 - val_loss: 15.4766\n",
            "Epoch 95/100\n",
            "1140/1140 [==============================] - 10s 9ms/step - loss: 22.5190 - val_loss: 19.2277\n",
            "Epoch 96/100\n",
            "1140/1140 [==============================] - 10s 9ms/step - loss: 21.2673 - val_loss: 12.1461\n",
            "Epoch 97/100\n",
            "1140/1140 [==============================] - 10s 9ms/step - loss: 19.4428 - val_loss: 9.8068\n",
            "Epoch 98/100\n",
            "1140/1140 [==============================] - 10s 9ms/step - loss: 21.6819 - val_loss: 11.5073\n",
            "Epoch 99/100\n",
            "1140/1140 [==============================] - 10s 9ms/step - loss: 25.1998 - val_loss: 17.6392\n",
            "Epoch 100/100\n",
            "1140/1140 [==============================] - 10s 9ms/step - loss: 31.7678 - val_loss: 16.6854\n"
          ],
          "name": "stdout"
        }
      ]
    },
    {
      "cell_type": "markdown",
      "metadata": {
        "id": "jgHb1rY_Ysxf",
        "colab_type": "text"
      },
      "source": [
        "Model stopped learning after 40 epochs"
      ]
    },
    {
      "cell_type": "code",
      "metadata": {
        "trusted": true,
        "id": "nYqZEo1fYsxg",
        "colab_type": "code",
        "outputId": "6d5b1bc0-ef07-4c98-eb75-a3785f5401bb",
        "colab": {
          "base_uri": "https://localhost:8080/",
          "height": 296
        }
      },
      "source": [
        "plt.plot(history.history[\"loss\"])\n",
        "plt.plot(history.history[\"val_loss\"])\n",
        "plt.xlabel(\"Epochs\")\n",
        "plt.ylabel(\"loss\")\n",
        "plt.legend([\"loss\",\"validation loss\"])\n",
        "plt.show()"
      ],
      "execution_count": 84,
      "outputs": [
        {
          "output_type": "execute_result",
          "data": {
            "text/plain": [
              "<matplotlib.legend.Legend at 0x7fbfbb9b2a58>"
            ]
          },
          "metadata": {
            "tags": []
          },
          "execution_count": 84
        },
        {
          "output_type": "display_data",
          "data": {
            "image/png": "[encoded data removed]",
            "text/plain": [
              "<Figure size 432x288 with 1 Axes>"
            ]
          },
          "metadata": {
            "tags": []
          }
        }
      ]
    },
    {
      "cell_type": "code",
      "metadata": {
        "trusted": true,
        "id": "c9lJKabSYsxl",
        "colab_type": "code",
        "colab": {}
      },
      "source": [
        "#model.predict([X_lstest])"
      ],
      "execution_count": 0,
      "outputs": []
    },
    {
      "cell_type": "code",
      "metadata": {
        "trusted": true,
        "id": "cqDlnJN4Ysxp",
        "colab_type": "code",
        "colab": {}
      },
      "source": [
        "#y_lstest"
      ],
      "execution_count": 0,
      "outputs": []
    }
  ]
}