{
 "cells": [
  {
   "cell_type": "code",
   "execution_count": 2,
   "metadata": {},
   "outputs": [],
   "source": [
    "import numpy as np\n",
    "import keras\n",
    "from keras.layers import Dense,Flatten,LSTM"
   ]
  },
  {
   "cell_type": "code",
   "execution_count": 30,
   "metadata": {},
   "outputs": [],
   "source": [
    "from keras.datasets import mnist"
   ]
  },
  {
   "cell_type": "code",
   "execution_count": 31,
   "metadata": {
    "scrolled": false
   },
   "outputs": [
    {
     "name": "stdout",
     "output_type": "stream",
     "text": [
      "Downloading data from https://s3.amazonaws.com/img-datasets/mnist.npz\n",
      "11493376/11490434 [==============================] - 4s 0us/step\n"
     ]
    }
   ],
   "source": [
    "(X_train,y_train),(X_test,y_test)=mnist.load_data()"
   ]
  },
  {
   "cell_type": "code",
   "execution_count": 36,
   "metadata": {},
   "outputs": [],
   "source": [
    "#  Normalize data\n",
    "X_train = X_train/255.0\n",
    "X_test = X_test/255.0"
   ]
  },
  {
   "cell_type": "code",
   "execution_count": 37,
   "metadata": {
    "scrolled": true
   },
   "outputs": [
    {
     "name": "stdout",
     "output_type": "stream",
     "text": [
      "_________________________________________________________________\n",
      "Layer (type)                 Output Shape              Param #   \n",
      "=================================================================\n",
      "lstm_11 (LSTM)               (None, 28, 128)           80384     \n",
      "_________________________________________________________________\n",
      "dropout_11 (Dropout)         (None, 28, 128)           0         \n",
      "_________________________________________________________________\n",
      "lstm_12 (LSTM)               (None, 50)                35800     \n",
      "_________________________________________________________________\n",
      "dropout_12 (Dropout)         (None, 50)                0         \n",
      "_________________________________________________________________\n",
      "dense_6 (Dense)              (None, 10)                510       \n",
      "=================================================================\n",
      "Total params: 116,694\n",
      "Trainable params: 116,694\n",
      "Non-trainable params: 0\n",
      "_________________________________________________________________\n"
     ]
    }
   ],
   "source": [
    "from keras.models import Sequential \n",
    "from keras import layers \n",
    "from keras.layers import LSTM,Dense,Softmax,Flatten\n",
    "\n",
    "\n",
    "from keras.layers import Dropout\n",
    "from keras.optimizers import Adam\n",
    "opt=Adam(lr=.0001,decay=1e-5)\n",
    "model=Sequential()\n",
    "model.add(LSTM(128,activation=\"relu\",input_shape=(X_train.shape[1:]),return_sequences=True))\n",
    "model.add(Dropout(0.25))\n",
    "\n",
    "model.add(LSTM(50,activation=\"relu\",return_sequences=False))\n",
    "model.add(Dropout(0.25))\n",
    "\n",
    "model.add(Dense(10,activation=\"softmax\"))\n",
    "\n",
    "model.compile(optimizer=\"Adam\",loss=\"sparse_categorical_crossentropy\",metrics=[\"accuracy\"])\n",
    "model.summary()"
   ]
  },
  {
   "cell_type": "code",
   "execution_count": 38,
   "metadata": {},
   "outputs": [],
   "source": [
    "from tensorflow.keras.callbacks import EarlyStopping \n",
    "#used to stop the epochs when the validation loss is constanttill patience threshold\n",
    "monitor =EarlyStopping(monitor=\"val_loss\",min_delta=1e-3,patience=5,verbose=0,mode=\"auto\",restore_best_weights=True)"
   ]
  },
  {
   "cell_type": "code",
   "execution_count": 39,
   "metadata": {
    "scrolled": true
   },
   "outputs": [
    {
     "name": "stdout",
     "output_type": "stream",
     "text": [
      "Train on 60000 samples, validate on 10000 samples\n",
      "Epoch 1/100\n",
      "60000/60000 [==============================] - 106s 2ms/step - loss: 0.5652 - acc: 0.8141 - val_loss: 0.1635 - val_acc: 0.9510\n",
      "Epoch 2/100\n",
      "60000/60000 [==============================] - 115s 2ms/step - loss: 0.1599 - acc: 0.9547 - val_loss: 0.0783 - val_acc: 0.9753\n",
      "Epoch 3/100\n",
      "60000/60000 [==============================] - 119s 2ms/step - loss: 0.1074 - acc: 0.9697 - val_loss: 0.0721 - val_acc: 0.9774\n",
      "Epoch 4/100\n",
      "60000/60000 [==============================] - 101s 2ms/step - loss: 0.0826 - acc: 0.9765 - val_loss: 0.0617 - val_acc: 0.9819\n",
      "Epoch 5/100\n",
      "60000/60000 [==============================] - 102s 2ms/step - loss: 0.0683 - acc: 0.9814 - val_loss: 0.0780 - val_acc: 0.9763\n",
      "Epoch 6/100\n",
      "60000/60000 [==============================] - 104s 2ms/step - loss: 0.0601 - acc: 0.9837 - val_loss: 0.0491 - val_acc: 0.9864\n",
      "Epoch 7/100\n",
      "60000/60000 [==============================] - 102s 2ms/step - loss: 0.0508 - acc: 0.9856 - val_loss: 0.0456 - val_acc: 0.9868\n",
      "Epoch 8/100\n",
      "60000/60000 [==============================] - 103s 2ms/step - loss: 0.0435 - acc: 0.9875 - val_loss: 0.0476 - val_acc: 0.9875\n",
      "Epoch 9/100\n",
      "60000/60000 [==============================] - 102s 2ms/step - loss: 0.0413 - acc: 0.9880 - val_loss: 0.0374 - val_acc: 0.9899\n",
      "Epoch 10/100\n",
      "60000/60000 [==============================] - 103s 2ms/step - loss: 0.0375 - acc: 0.9896 - val_loss: 0.0467 - val_acc: 0.9874\n",
      "Epoch 11/100\n",
      "60000/60000 [==============================] - 103s 2ms/step - loss: 0.0334 - acc: 0.9906 - val_loss: 0.0426 - val_acc: 0.9888\n",
      "Epoch 12/100\n",
      "60000/60000 [==============================] - 104s 2ms/step - loss: 0.0320 - acc: 0.9907 - val_loss: 0.0548 - val_acc: 0.9875\n",
      "Epoch 13/100\n",
      "60000/60000 [==============================] - 104s 2ms/step - loss: 0.0267 - acc: 0.9927 - val_loss: 0.0472 - val_acc: 0.9866\n",
      "Epoch 14/100\n",
      "60000/60000 [==============================] - 104s 2ms/step - loss: 0.0271 - acc: 0.9927 - val_loss: 0.0489 - val_acc: 0.9872\n"
     ]
    }
   ],
   "source": [
    "history=model.fit(X_train,y_train,validation_data=(X_test,y_test),callbacks=[monitor],epochs=100)"
   ]
  },
  {
   "cell_type": "code",
   "execution_count": 40,
   "metadata": {},
   "outputs": [],
   "source": [
    "model.save(\"LSTM_mnist_model.h5\")"
   ]
  }
 ],
 "metadata": {
  "kernelspec": {
   "display_name": "Python 3",
   "language": "python",
   "name": "python3"
  }
 },
 "nbformat": 4,
 "nbformat_minor": 2
}
